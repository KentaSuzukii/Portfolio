{
 "cells": [
  {
   "cell_type": "markdown",
   "id": "be02b70c-210d-47a7-b2a6-67f5b250407f",
   "metadata": {
    "editable": true,
    "execution": {
     "iopub.execute_input": "2025-04-25T02:03:25.792592Z",
     "iopub.status.busy": "2025-04-25T02:03:25.790806Z",
     "iopub.status.idle": "2025-04-25T02:03:25.800386Z",
     "shell.execute_reply": "2025-04-25T02:03:25.799363Z",
     "shell.execute_reply.started": "2025-04-25T02:03:25.792527Z"
    },
    "slideshow": {
     "slide_type": "slide"
    },
    "tags": []
   },
   "source": [
    "# Olist Dataset"
   ]
  },
  {
   "cell_type": "markdown",
   "id": "42787c10-da90-431a-8b47-22c8287916e1",
   "metadata": {},
   "source": [
    "### Olist is a Brazilian e-commerce platform that enables small and medium-sized businesses to sell products across multiple online marketplaces. The Olist dataset contains transactional data, including order details, customer information, product attributes, payment methods, and reviews, providing insights into the platform's sales and customer behavior. It is commonly used for data analysis and machine learning projects aimed at understanding trends, predicting demand, and improving business strategies."
   ]
  },
  {
   "cell_type": "markdown",
   "id": "27e6f875-b1e6-4ff1-ac5b-65373afe0f46",
   "metadata": {
    "editable": true,
    "execution": {
     "iopub.execute_input": "2025-04-25T02:04:31.650019Z",
     "iopub.status.busy": "2025-04-25T02:04:31.648689Z",
     "iopub.status.idle": "2025-04-25T02:04:31.659523Z",
     "shell.execute_reply": "2025-04-25T02:04:31.658844Z",
     "shell.execute_reply.started": "2025-04-25T02:04:31.649964Z"
    },
    "slideshow": {
     "slide_type": "subslide"
    },
    "tags": []
   },
   "source": [
    "## Goal: Find how to increase customer satisfaction (so as to increase profit margin) while maintaining a healthy order volume?\n",
    "\n",
    "### Meaning\n",
    "### 1:Increase profit \n",
    "### 2:Keep operations balanced and scalable over time\n",
    "\n",
    "### (I am going to solve the problem from sellers' perspective)"
   ]
  },
  {
   "cell_type": "code",
   "execution_count": null,
   "id": "8cba4b88-6580-402c-a459-5010ababaddf",
   "metadata": {},
   "outputs": [],
   "source": []
  },
  {
   "cell_type": "markdown",
   "id": "09f2a168-9dd7-4654-9d02-71832c45c5fc",
   "metadata": {
    "editable": true,
    "slideshow": {
     "slide_type": "slide"
    },
    "tags": []
   },
   "source": [
    "# Suggestion\n",
    "## Olist should fire a small number of the worst underperforming sellers and shorten the average shipping time."
   ]
  },
  {
   "cell_type": "code",
   "execution_count": null,
   "id": "1f05bb0a-77d2-4964-8d92-6b3fd9b8a192",
   "metadata": {},
   "outputs": [],
   "source": []
  },
  {
   "cell_type": "markdown",
   "id": "911f9690-529e-4316-9af7-f350b6faca45",
   "metadata": {
    "editable": true,
    "execution": {
     "iopub.execute_input": "2025-04-25T02:10:59.479062Z",
     "iopub.status.busy": "2025-04-25T02:10:59.464602Z",
     "iopub.status.idle": "2025-04-25T02:10:59.487233Z",
     "shell.execute_reply": "2025-04-25T02:10:59.486691Z",
     "shell.execute_reply.started": "2025-04-25T02:10:59.478998Z"
    },
    "slideshow": {
     "slide_type": "slide"
    },
    "tags": []
   },
   "source": [
    "# Data exploration"
   ]
  },
  {
   "cell_type": "markdown",
   "id": "ad5fd697-f37d-409e-8243-6896271770e5",
   "metadata": {
    "editable": true,
    "slideshow": {
     "slide_type": "subslide"
    },
    "tags": []
   },
   "source": [
    "## 1. Identify underperforming sellers\n",
    "## 2. Calculate the impact of firing them\n",
    "## 3. Set new policies for sellers"
   ]
  },
  {
   "cell_type": "markdown",
   "id": "91058ebd-c8a1-442b-8530-fd3a2bee430e",
   "metadata": {
    "editable": true,
    "execution": {
     "iopub.execute_input": "2025-04-25T02:23:49.727969Z",
     "iopub.status.busy": "2025-04-25T02:23:49.726031Z",
     "iopub.status.idle": "2025-04-25T02:23:49.736455Z",
     "shell.execute_reply": "2025-04-25T02:23:49.735764Z",
     "shell.execute_reply.started": "2025-04-25T02:23:49.727893Z"
    },
    "slideshow": {
     "slide_type": "subslide"
    },
    "tags": []
   },
   "source": [
    "## １. Identify underperforming sellers\n",
    "### Profit = Revenue(sales fee + subscription fee) - Cost(bad review cost + IT cost)\n",
    "#### $(IT cost = \\alpha * \\sqrt{n\\_sellers} + \\beta * \\sqrt{n\\_items})$\n",
    "\n",
    "### I am going to identify sellers's performance based on the formula above"
   ]
  },
  {
   "cell_type": "code",
   "execution_count": 26,
   "id": "798c5516-0d56-41e8-b8ca-f7547d026318",
   "metadata": {
    "editable": true,
    "execution": {
     "iopub.execute_input": "2025-04-26T12:32:25.217714Z",
     "iopub.status.busy": "2025-04-26T12:32:25.216550Z",
     "iopub.status.idle": "2025-04-26T12:32:25.225791Z",
     "shell.execute_reply": "2025-04-26T12:32:25.224906Z",
     "shell.execute_reply.started": "2025-04-26T12:32:25.217659Z"
    },
    "slideshow": {
     "slide_type": ""
    },
    "tags": []
   },
   "outputs": [],
   "source": [
    "#Import libararies\n",
    "import pandas as pd \n",
    "import numpy as np\n",
    "import matplotlib.pyplot as plt\n",
    "import matplotlib.ticker as ticker\n",
    "import geopandas as gpd\n",
    "from scipy import stats\n",
    "from decimal import Decimal"
   ]
  },
  {
   "cell_type": "code",
   "execution_count": 2,
   "id": "be18a87c-4fec-4195-ba19-b7b23126079e",
   "metadata": {
    "editable": true,
    "execution": {
     "iopub.execute_input": "2025-04-26T12:09:42.217776Z",
     "iopub.status.busy": "2025-04-26T12:09:42.217395Z",
     "iopub.status.idle": "2025-04-26T12:09:45.139820Z",
     "shell.execute_reply": "2025-04-26T12:09:45.139324Z",
     "shell.execute_reply.started": "2025-04-26T12:09:42.217760Z"
    },
    "slideshow": {
     "slide_type": "skip"
    },
    "tags": []
   },
   "outputs": [
    {
     "data": {
      "text/plain": [
       "dict_keys(['sellers', 'product_category_name_translation', 'orders', 'order_items', 'customers', 'geolocation', 'order_payments', 'order_reviews', 'products'])"
      ]
     },
     "execution_count": 2,
     "metadata": {},
     "output_type": "execute_result"
    }
   ],
   "source": [
    "#Import all tables(didn't use all)\n",
    "from olist.data import Olist\n",
    "df = Olist().get_data()\n",
    "df.keys()"
   ]
  },
  {
   "cell_type": "code",
   "execution_count": 3,
   "id": "277a4b35-f57f-4315-8ae7-30f1c4369752",
   "metadata": {
    "editable": true,
    "execution": {
     "iopub.execute_input": "2025-04-26T12:09:45.140697Z",
     "iopub.status.busy": "2025-04-26T12:09:45.140570Z",
     "iopub.status.idle": "2025-04-26T12:09:45.219176Z",
     "shell.execute_reply": "2025-04-26T12:09:45.218776Z",
     "shell.execute_reply.started": "2025-04-26T12:09:45.140686Z"
    },
    "slideshow": {
     "slide_type": "skip"
    },
    "tags": []
   },
   "outputs": [
    {
     "data": {
      "text/html": [
       "<div>\n",
       "<style scoped>\n",
       "    .dataframe tbody tr th:only-of-type {\n",
       "        vertical-align: middle;\n",
       "    }\n",
       "\n",
       "    .dataframe tbody tr th {\n",
       "        vertical-align: top;\n",
       "    }\n",
       "\n",
       "    .dataframe thead th {\n",
       "        text-align: right;\n",
       "    }\n",
       "</style>\n",
       "<table border=\"1\" class=\"dataframe\">\n",
       "  <thead>\n",
       "    <tr style=\"text-align: right;\">\n",
       "      <th></th>\n",
       "      <th>seller_id</th>\n",
       "      <th>price</th>\n",
       "      <th>sales_fee</th>\n",
       "    </tr>\n",
       "  </thead>\n",
       "  <tbody>\n",
       "    <tr>\n",
       "      <th>0</th>\n",
       "      <td>0015a82c2db000af6aaaf3ae2ecb0532</td>\n",
       "      <td>2685.00</td>\n",
       "      <td>268.500</td>\n",
       "    </tr>\n",
       "    <tr>\n",
       "      <th>1</th>\n",
       "      <td>001cca7ae9ae17fb1caed9dfb1094831</td>\n",
       "      <td>25080.03</td>\n",
       "      <td>2508.003</td>\n",
       "    </tr>\n",
       "    <tr>\n",
       "      <th>2</th>\n",
       "      <td>001e6ad469a905060d959994f1b41e4f</td>\n",
       "      <td>250.00</td>\n",
       "      <td>25.000</td>\n",
       "    </tr>\n",
       "    <tr>\n",
       "      <th>3</th>\n",
       "      <td>002100f778ceb8431b7a1020ff7ab48f</td>\n",
       "      <td>1234.50</td>\n",
       "      <td>123.450</td>\n",
       "    </tr>\n",
       "    <tr>\n",
       "      <th>4</th>\n",
       "      <td>003554e2dce176b5555353e4f3555ac8</td>\n",
       "      <td>120.00</td>\n",
       "      <td>12.000</td>\n",
       "    </tr>\n",
       "    <tr>\n",
       "      <th>...</th>\n",
       "      <td>...</td>\n",
       "      <td>...</td>\n",
       "      <td>...</td>\n",
       "    </tr>\n",
       "    <tr>\n",
       "      <th>3090</th>\n",
       "      <td>ffcfefa19b08742c5d315f2791395ee5</td>\n",
       "      <td>69.90</td>\n",
       "      <td>6.990</td>\n",
       "    </tr>\n",
       "    <tr>\n",
       "      <th>3091</th>\n",
       "      <td>ffdd9f82b9a447f6f8d4b91554cc7dd3</td>\n",
       "      <td>2101.20</td>\n",
       "      <td>210.120</td>\n",
       "    </tr>\n",
       "    <tr>\n",
       "      <th>3092</th>\n",
       "      <td>ffeee66ac5d5a62fe688b9d26f83f534</td>\n",
       "      <td>1839.86</td>\n",
       "      <td>183.986</td>\n",
       "    </tr>\n",
       "    <tr>\n",
       "      <th>3093</th>\n",
       "      <td>fffd5413c0700ac820c7069d66d98c89</td>\n",
       "      <td>9062.30</td>\n",
       "      <td>906.230</td>\n",
       "    </tr>\n",
       "    <tr>\n",
       "      <th>3094</th>\n",
       "      <td>ffff564a4f9085cd26170f4732393726</td>\n",
       "      <td>1426.30</td>\n",
       "      <td>142.630</td>\n",
       "    </tr>\n",
       "  </tbody>\n",
       "</table>\n",
       "<p>3095 rows × 3 columns</p>\n",
       "</div>"
      ],
      "text/plain": [
       "                             seller_id     price  sales_fee\n",
       "0     0015a82c2db000af6aaaf3ae2ecb0532   2685.00    268.500\n",
       "1     001cca7ae9ae17fb1caed9dfb1094831  25080.03   2508.003\n",
       "2     001e6ad469a905060d959994f1b41e4f    250.00     25.000\n",
       "3     002100f778ceb8431b7a1020ff7ab48f   1234.50    123.450\n",
       "4     003554e2dce176b5555353e4f3555ac8    120.00     12.000\n",
       "...                                ...       ...        ...\n",
       "3090  ffcfefa19b08742c5d315f2791395ee5     69.90      6.990\n",
       "3091  ffdd9f82b9a447f6f8d4b91554cc7dd3   2101.20    210.120\n",
       "3092  ffeee66ac5d5a62fe688b9d26f83f534   1839.86    183.986\n",
       "3093  fffd5413c0700ac820c7069d66d98c89   9062.30    906.230\n",
       "3094  ffff564a4f9085cd26170f4732393726   1426.30    142.630\n",
       "\n",
       "[3095 rows x 3 columns]"
      ]
     },
     "execution_count": 3,
     "metadata": {},
     "output_type": "execute_result"
    }
   ],
   "source": [
    "#Caculate sales fee of each seller\n",
    "sales = df[\"sellers\"].merge(df[\"order_items\"], on=\"seller_id\", how=\"left\")\n",
    "sales = sales.groupby(\"seller_id\")[\"price\"].sum().reset_index()\n",
    "sales[\"sales_fee\"] = sales[\"price\"]*0.1\n",
    "sales"
   ]
  },
  {
   "cell_type": "code",
   "execution_count": 4,
   "id": "92c66c41-039e-4dc0-a6fa-3a3de7db5011",
   "metadata": {
    "editable": true,
    "execution": {
     "iopub.execute_input": "2025-04-26T12:09:45.220762Z",
     "iopub.status.busy": "2025-04-26T12:09:45.220579Z",
     "iopub.status.idle": "2025-04-26T12:09:50.644173Z",
     "shell.execute_reply": "2025-04-26T12:09:50.643811Z",
     "shell.execute_reply.started": "2025-04-26T12:09:45.220747Z"
    },
    "slideshow": {
     "slide_type": "skip"
    },
    "tags": []
   },
   "outputs": [
    {
     "name": "stderr",
     "output_type": "stream",
     "text": [
      "/Users/suzukikenta/code/KentaSuzukii/04-Decision-Science/01-Project-Setup/data-context-and-setup/olist/seller.py:100: FutureWarning: The provided callable <built-in function min> is currently using SeriesGroupBy.min. In a future version of pandas, the provided callable will be used directly. To keep current behavior pass the string \"min\" instead.\n",
      "  df = orders_sellers.groupby('seller_id').agg({\n",
      "/Users/suzukikenta/code/KentaSuzukii/04-Decision-Science/01-Project-Setup/data-context-and-setup/olist/seller.py:100: FutureWarning: The provided callable <built-in function max> is currently using SeriesGroupBy.max. In a future version of pandas, the provided callable will be used directly. To keep current behavior pass the string \"max\" instead.\n",
      "  df = orders_sellers.groupby('seller_id').agg({\n"
     ]
    },
    {
     "data": {
      "text/html": [
       "<div>\n",
       "<style scoped>\n",
       "    .dataframe tbody tr th:only-of-type {\n",
       "        vertical-align: middle;\n",
       "    }\n",
       "\n",
       "    .dataframe tbody tr th {\n",
       "        vertical-align: top;\n",
       "    }\n",
       "\n",
       "    .dataframe thead th {\n",
       "        text-align: right;\n",
       "    }\n",
       "</style>\n",
       "<table border=\"1\" class=\"dataframe\">\n",
       "  <thead>\n",
       "    <tr style=\"text-align: right;\">\n",
       "      <th></th>\n",
       "      <th>seller_id</th>\n",
       "      <th>subscription_fee</th>\n",
       "    </tr>\n",
       "  </thead>\n",
       "  <tbody>\n",
       "    <tr>\n",
       "      <th>0</th>\n",
       "      <td>3442f8959a84dea7ee197c632cb2df15</td>\n",
       "      <td>320.0</td>\n",
       "    </tr>\n",
       "    <tr>\n",
       "      <th>1</th>\n",
       "      <td>d1b65fc7debc3361ea86b5f14c68d2e2</td>\n",
       "      <td>1120.0</td>\n",
       "    </tr>\n",
       "    <tr>\n",
       "      <th>2</th>\n",
       "      <td>ce3ad9de960102d0677a81f5d0bb7b2d</td>\n",
       "      <td>0.0</td>\n",
       "    </tr>\n",
       "    <tr>\n",
       "      <th>3</th>\n",
       "      <td>c0f3eea2e14555b6faeea3dd58c1b1c3</td>\n",
       "      <td>0.0</td>\n",
       "    </tr>\n",
       "    <tr>\n",
       "      <th>4</th>\n",
       "      <td>51a04a8a6bdcb23deccc82b0b80742cf</td>\n",
       "      <td>0.0</td>\n",
       "    </tr>\n",
       "    <tr>\n",
       "      <th>...</th>\n",
       "      <td>...</td>\n",
       "      <td>...</td>\n",
       "    </tr>\n",
       "    <tr>\n",
       "      <th>2962</th>\n",
       "      <td>98dddbc4601dd4443ca174359b237166</td>\n",
       "      <td>0.0</td>\n",
       "    </tr>\n",
       "    <tr>\n",
       "      <th>2963</th>\n",
       "      <td>f8201cab383e484733266d1906e2fdfa</td>\n",
       "      <td>1120.0</td>\n",
       "    </tr>\n",
       "    <tr>\n",
       "      <th>2964</th>\n",
       "      <td>74871d19219c7d518d0090283e03c137</td>\n",
       "      <td>400.0</td>\n",
       "    </tr>\n",
       "    <tr>\n",
       "      <th>2965</th>\n",
       "      <td>e603cf3fec55f8697c9059638d6c8eb5</td>\n",
       "      <td>320.0</td>\n",
       "    </tr>\n",
       "    <tr>\n",
       "      <th>2966</th>\n",
       "      <td>9e25199f6ef7e7c347120ff175652c3b</td>\n",
       "      <td>0.0</td>\n",
       "    </tr>\n",
       "  </tbody>\n",
       "</table>\n",
       "<p>2967 rows × 2 columns</p>\n",
       "</div>"
      ],
      "text/plain": [
       "                             seller_id  subscription_fee\n",
       "0     3442f8959a84dea7ee197c632cb2df15             320.0\n",
       "1     d1b65fc7debc3361ea86b5f14c68d2e2            1120.0\n",
       "2     ce3ad9de960102d0677a81f5d0bb7b2d               0.0\n",
       "3     c0f3eea2e14555b6faeea3dd58c1b1c3               0.0\n",
       "4     51a04a8a6bdcb23deccc82b0b80742cf               0.0\n",
       "...                                ...               ...\n",
       "2962  98dddbc4601dd4443ca174359b237166               0.0\n",
       "2963  f8201cab383e484733266d1906e2fdfa            1120.0\n",
       "2964  74871d19219c7d518d0090283e03c137             400.0\n",
       "2965  e603cf3fec55f8697c9059638d6c8eb5             320.0\n",
       "2966  9e25199f6ef7e7c347120ff175652c3b               0.0\n",
       "\n",
       "[2967 rows x 2 columns]"
      ]
     },
     "execution_count": 4,
     "metadata": {},
     "output_type": "execute_result"
    }
   ],
   "source": [
    "#Caculate subscription fee of each seller\n",
    "from olist.seller import Seller\n",
    "seller = Seller().get_training_data()\n",
    "seller[\"subscription_fee\"] = seller[\"months_on_olist\"]*80\n",
    "seller = seller[[\"seller_id\", \"subscription_fee\"]]\n",
    "seller"
   ]
  },
  {
   "cell_type": "code",
   "execution_count": 5,
   "id": "3229301a-ffe2-4b96-be50-9851b7743c5d",
   "metadata": {
    "editable": true,
    "execution": {
     "iopub.execute_input": "2025-04-26T12:09:50.644925Z",
     "iopub.status.busy": "2025-04-26T12:09:50.644773Z",
     "iopub.status.idle": "2025-04-26T12:09:50.655724Z",
     "shell.execute_reply": "2025-04-26T12:09:50.655383Z",
     "shell.execute_reply.started": "2025-04-26T12:09:50.644912Z"
    },
    "slideshow": {
     "slide_type": "skip"
    },
    "tags": []
   },
   "outputs": [
    {
     "data": {
      "text/html": [
       "<div>\n",
       "<style scoped>\n",
       "    .dataframe tbody tr th:only-of-type {\n",
       "        vertical-align: middle;\n",
       "    }\n",
       "\n",
       "    .dataframe tbody tr th {\n",
       "        vertical-align: top;\n",
       "    }\n",
       "\n",
       "    .dataframe thead th {\n",
       "        text-align: right;\n",
       "    }\n",
       "</style>\n",
       "<table border=\"1\" class=\"dataframe\">\n",
       "  <thead>\n",
       "    <tr style=\"text-align: right;\">\n",
       "      <th></th>\n",
       "      <th>seller_id</th>\n",
       "      <th>subscription_fee</th>\n",
       "      <th>price</th>\n",
       "      <th>sales_fee</th>\n",
       "      <th>total_revenue</th>\n",
       "    </tr>\n",
       "  </thead>\n",
       "  <tbody>\n",
       "    <tr>\n",
       "      <th>0</th>\n",
       "      <td>3442f8959a84dea7ee197c632cb2df15</td>\n",
       "      <td>320.0</td>\n",
       "      <td>218.70</td>\n",
       "      <td>21.870</td>\n",
       "      <td>341.870</td>\n",
       "    </tr>\n",
       "    <tr>\n",
       "      <th>1</th>\n",
       "      <td>d1b65fc7debc3361ea86b5f14c68d2e2</td>\n",
       "      <td>1120.0</td>\n",
       "      <td>11703.07</td>\n",
       "      <td>1170.307</td>\n",
       "      <td>2290.307</td>\n",
       "    </tr>\n",
       "    <tr>\n",
       "      <th>2</th>\n",
       "      <td>ce3ad9de960102d0677a81f5d0bb7b2d</td>\n",
       "      <td>0.0</td>\n",
       "      <td>158.00</td>\n",
       "      <td>15.800</td>\n",
       "      <td>15.800</td>\n",
       "    </tr>\n",
       "    <tr>\n",
       "      <th>3</th>\n",
       "      <td>c0f3eea2e14555b6faeea3dd58c1b1c3</td>\n",
       "      <td>0.0</td>\n",
       "      <td>79.99</td>\n",
       "      <td>7.999</td>\n",
       "      <td>7.999</td>\n",
       "    </tr>\n",
       "    <tr>\n",
       "      <th>4</th>\n",
       "      <td>51a04a8a6bdcb23deccc82b0b80742cf</td>\n",
       "      <td>0.0</td>\n",
       "      <td>167.99</td>\n",
       "      <td>16.799</td>\n",
       "      <td>16.799</td>\n",
       "    </tr>\n",
       "    <tr>\n",
       "      <th>...</th>\n",
       "      <td>...</td>\n",
       "      <td>...</td>\n",
       "      <td>...</td>\n",
       "      <td>...</td>\n",
       "      <td>...</td>\n",
       "    </tr>\n",
       "    <tr>\n",
       "      <th>2962</th>\n",
       "      <td>98dddbc4601dd4443ca174359b237166</td>\n",
       "      <td>0.0</td>\n",
       "      <td>158.00</td>\n",
       "      <td>15.800</td>\n",
       "      <td>15.800</td>\n",
       "    </tr>\n",
       "    <tr>\n",
       "      <th>2963</th>\n",
       "      <td>f8201cab383e484733266d1906e2fdfa</td>\n",
       "      <td>1120.0</td>\n",
       "      <td>889.00</td>\n",
       "      <td>88.900</td>\n",
       "      <td>1208.900</td>\n",
       "    </tr>\n",
       "    <tr>\n",
       "      <th>2964</th>\n",
       "      <td>74871d19219c7d518d0090283e03c137</td>\n",
       "      <td>400.0</td>\n",
       "      <td>550.04</td>\n",
       "      <td>55.004</td>\n",
       "      <td>455.004</td>\n",
       "    </tr>\n",
       "    <tr>\n",
       "      <th>2965</th>\n",
       "      <td>e603cf3fec55f8697c9059638d6c8eb5</td>\n",
       "      <td>320.0</td>\n",
       "      <td>297.00</td>\n",
       "      <td>29.700</td>\n",
       "      <td>349.700</td>\n",
       "    </tr>\n",
       "    <tr>\n",
       "      <th>2966</th>\n",
       "      <td>9e25199f6ef7e7c347120ff175652c3b</td>\n",
       "      <td>0.0</td>\n",
       "      <td>12.50</td>\n",
       "      <td>1.250</td>\n",
       "      <td>1.250</td>\n",
       "    </tr>\n",
       "  </tbody>\n",
       "</table>\n",
       "<p>2967 rows × 5 columns</p>\n",
       "</div>"
      ],
      "text/plain": [
       "                             seller_id  subscription_fee     price  sales_fee  \\\n",
       "0     3442f8959a84dea7ee197c632cb2df15             320.0    218.70     21.870   \n",
       "1     d1b65fc7debc3361ea86b5f14c68d2e2            1120.0  11703.07   1170.307   \n",
       "2     ce3ad9de960102d0677a81f5d0bb7b2d               0.0    158.00     15.800   \n",
       "3     c0f3eea2e14555b6faeea3dd58c1b1c3               0.0     79.99      7.999   \n",
       "4     51a04a8a6bdcb23deccc82b0b80742cf               0.0    167.99     16.799   \n",
       "...                                ...               ...       ...        ...   \n",
       "2962  98dddbc4601dd4443ca174359b237166               0.0    158.00     15.800   \n",
       "2963  f8201cab383e484733266d1906e2fdfa            1120.0    889.00     88.900   \n",
       "2964  74871d19219c7d518d0090283e03c137             400.0    550.04     55.004   \n",
       "2965  e603cf3fec55f8697c9059638d6c8eb5             320.0    297.00     29.700   \n",
       "2966  9e25199f6ef7e7c347120ff175652c3b               0.0     12.50      1.250   \n",
       "\n",
       "      total_revenue  \n",
       "0           341.870  \n",
       "1          2290.307  \n",
       "2            15.800  \n",
       "3             7.999  \n",
       "4            16.799  \n",
       "...             ...  \n",
       "2962         15.800  \n",
       "2963       1208.900  \n",
       "2964        455.004  \n",
       "2965        349.700  \n",
       "2966          1.250  \n",
       "\n",
       "[2967 rows x 5 columns]"
      ]
     },
     "execution_count": 5,
     "metadata": {},
     "output_type": "execute_result"
    }
   ],
   "source": [
    "#Join the two tables\n",
    "revenues = seller.merge(sales, on=\"seller_id\", how=\"left\")\n",
    "revenues\n",
    "revenues[\"total_revenue\"] = revenues[\"sales_fee\"] + revenues[\"subscription_fee\"] \n",
    "revenues"
   ]
  },
  {
   "cell_type": "code",
   "execution_count": 6,
   "id": "ae366687-17e6-4f1d-ba71-bd35ea2149d8",
   "metadata": {
    "editable": true,
    "execution": {
     "iopub.execute_input": "2025-04-26T12:09:50.656472Z",
     "iopub.status.busy": "2025-04-26T12:09:50.656343Z",
     "iopub.status.idle": "2025-04-26T12:09:50.973253Z",
     "shell.execute_reply": "2025-04-26T12:09:50.972905Z",
     "shell.execute_reply.started": "2025-04-26T12:09:50.656460Z"
    },
    "slideshow": {
     "slide_type": "skip"
    },
    "tags": []
   },
   "outputs": [
    {
     "data": {
      "text/html": [
       "<div>\n",
       "<style scoped>\n",
       "    .dataframe tbody tr th:only-of-type {\n",
       "        vertical-align: middle;\n",
       "    }\n",
       "\n",
       "    .dataframe tbody tr th {\n",
       "        vertical-align: top;\n",
       "    }\n",
       "\n",
       "    .dataframe thead th {\n",
       "        text-align: right;\n",
       "    }\n",
       "</style>\n",
       "<table border=\"1\" class=\"dataframe\">\n",
       "  <thead>\n",
       "    <tr style=\"text-align: right;\">\n",
       "      <th></th>\n",
       "      <th>seller_id</th>\n",
       "      <th>cost</th>\n",
       "    </tr>\n",
       "  </thead>\n",
       "  <tbody>\n",
       "    <tr>\n",
       "      <th>0</th>\n",
       "      <td>0015a82c2db000af6aaaf3ae2ecb0532</td>\n",
       "      <td>100</td>\n",
       "    </tr>\n",
       "    <tr>\n",
       "      <th>1</th>\n",
       "      <td>001cca7ae9ae17fb1caed9dfb1094831</td>\n",
       "      <td>4750</td>\n",
       "    </tr>\n",
       "    <tr>\n",
       "      <th>2</th>\n",
       "      <td>001e6ad469a905060d959994f1b41e4f</td>\n",
       "      <td>100</td>\n",
       "    </tr>\n",
       "    <tr>\n",
       "      <th>3</th>\n",
       "      <td>002100f778ceb8431b7a1020ff7ab48f</td>\n",
       "      <td>1110</td>\n",
       "    </tr>\n",
       "    <tr>\n",
       "      <th>4</th>\n",
       "      <td>003554e2dce176b5555353e4f3555ac8</td>\n",
       "      <td>0</td>\n",
       "    </tr>\n",
       "    <tr>\n",
       "      <th>...</th>\n",
       "      <td>...</td>\n",
       "      <td>...</td>\n",
       "    </tr>\n",
       "    <tr>\n",
       "      <th>3090</th>\n",
       "      <td>ffcfefa19b08742c5d315f2791395ee5</td>\n",
       "      <td>100</td>\n",
       "    </tr>\n",
       "    <tr>\n",
       "      <th>3091</th>\n",
       "      <td>ffdd9f82b9a447f6f8d4b91554cc7dd3</td>\n",
       "      <td>240</td>\n",
       "    </tr>\n",
       "    <tr>\n",
       "      <th>3092</th>\n",
       "      <td>ffeee66ac5d5a62fe688b9d26f83f534</td>\n",
       "      <td>200</td>\n",
       "    </tr>\n",
       "    <tr>\n",
       "      <th>3093</th>\n",
       "      <td>fffd5413c0700ac820c7069d66d98c89</td>\n",
       "      <td>1360</td>\n",
       "    </tr>\n",
       "    <tr>\n",
       "      <th>3094</th>\n",
       "      <td>ffff564a4f9085cd26170f4732393726</td>\n",
       "      <td>1420</td>\n",
       "    </tr>\n",
       "  </tbody>\n",
       "</table>\n",
       "<p>3095 rows × 2 columns</p>\n",
       "</div>"
      ],
      "text/plain": [
       "                             seller_id  cost\n",
       "0     0015a82c2db000af6aaaf3ae2ecb0532   100\n",
       "1     001cca7ae9ae17fb1caed9dfb1094831  4750\n",
       "2     001e6ad469a905060d959994f1b41e4f   100\n",
       "3     002100f778ceb8431b7a1020ff7ab48f  1110\n",
       "4     003554e2dce176b5555353e4f3555ac8     0\n",
       "...                                ...   ...\n",
       "3090  ffcfefa19b08742c5d315f2791395ee5   100\n",
       "3091  ffdd9f82b9a447f6f8d4b91554cc7dd3   240\n",
       "3092  ffeee66ac5d5a62fe688b9d26f83f534   200\n",
       "3093  fffd5413c0700ac820c7069d66d98c89  1360\n",
       "3094  ffff564a4f9085cd26170f4732393726  1420\n",
       "\n",
       "[3095 rows x 2 columns]"
      ]
     },
     "execution_count": 6,
     "metadata": {},
     "output_type": "execute_result"
    }
   ],
   "source": [
    "#Caculate bad review costs\n",
    "cost_of_reviews = df[\"orders\"].merge(df[\"order_reviews\"], on=\"order_id\", how=\"left\")\n",
    "cost_of_reviews = cost_of_reviews.merge(df[\"order_items\"], on=\"order_id\", how=\"left\")\n",
    "cost_of_reviews[\"three_star\"] = cost_of_reviews[\"review_score\"].apply(lambda x: 1 if x == 3 else 0)\n",
    "cost_of_reviews[\"two_star\"] = cost_of_reviews[\"review_score\"].apply(lambda x: 1 if x == 2 else 0)\n",
    "cost_of_reviews[\"one_star\"] = cost_of_reviews[\"review_score\"].apply(lambda x: 1 if x == 1 else 0)\n",
    "cost_of_reviews = cost_of_reviews.groupby(\"seller_id\")[[\"three_star\", \"two_star\", \"one_star\"]].sum().reset_index()\n",
    "cost_of_reviews[\"three_star\"] = cost_of_reviews[\"three_star\"]*40\n",
    "cost_of_reviews[\"two_star\"] = cost_of_reviews[\"two_star\"] *50\n",
    "cost_of_reviews[\"one_star\"] = cost_of_reviews[\"one_star\"] *100\n",
    "cost_of_reviews[\"cost\"] = cost_of_reviews[\"three_star\"] + cost_of_reviews[\"two_star\"] + cost_of_reviews[\"one_star\"]\n",
    "cost_of_reviews = cost_of_reviews.drop(columns=[\"three_star\", \"two_star\", \"one_star\"])\n",
    "cost_of_reviews"
   ]
  },
  {
   "cell_type": "code",
   "execution_count": 7,
   "id": "764c9bc1-9e54-4424-92f4-931f02295967",
   "metadata": {
    "editable": true,
    "execution": {
     "iopub.execute_input": "2025-04-26T12:09:50.974134Z",
     "iopub.status.busy": "2025-04-26T12:09:50.973919Z",
     "iopub.status.idle": "2025-04-26T12:09:50.981864Z",
     "shell.execute_reply": "2025-04-26T12:09:50.981561Z",
     "shell.execute_reply.started": "2025-04-26T12:09:50.974120Z"
    },
    "slideshow": {
     "slide_type": "skip"
    },
    "tags": []
   },
   "outputs": [
    {
     "data": {
      "text/html": [
       "<div>\n",
       "<style scoped>\n",
       "    .dataframe tbody tr th:only-of-type {\n",
       "        vertical-align: middle;\n",
       "    }\n",
       "\n",
       "    .dataframe tbody tr th {\n",
       "        vertical-align: top;\n",
       "    }\n",
       "\n",
       "    .dataframe thead th {\n",
       "        text-align: right;\n",
       "    }\n",
       "</style>\n",
       "<table border=\"1\" class=\"dataframe\">\n",
       "  <thead>\n",
       "    <tr style=\"text-align: right;\">\n",
       "      <th></th>\n",
       "      <th>seller_id</th>\n",
       "      <th>profit</th>\n",
       "    </tr>\n",
       "  </thead>\n",
       "  <tbody>\n",
       "    <tr>\n",
       "      <th>0</th>\n",
       "      <td>3442f8959a84dea7ee197c632cb2df15</td>\n",
       "      <td>201.870</td>\n",
       "    </tr>\n",
       "    <tr>\n",
       "      <th>1</th>\n",
       "      <td>d1b65fc7debc3361ea86b5f14c68d2e2</td>\n",
       "      <td>2050.307</td>\n",
       "    </tr>\n",
       "    <tr>\n",
       "      <th>2</th>\n",
       "      <td>ce3ad9de960102d0677a81f5d0bb7b2d</td>\n",
       "      <td>15.800</td>\n",
       "    </tr>\n",
       "    <tr>\n",
       "      <th>3</th>\n",
       "      <td>c0f3eea2e14555b6faeea3dd58c1b1c3</td>\n",
       "      <td>7.999</td>\n",
       "    </tr>\n",
       "    <tr>\n",
       "      <th>4</th>\n",
       "      <td>51a04a8a6bdcb23deccc82b0b80742cf</td>\n",
       "      <td>-83.201</td>\n",
       "    </tr>\n",
       "    <tr>\n",
       "      <th>...</th>\n",
       "      <td>...</td>\n",
       "      <td>...</td>\n",
       "    </tr>\n",
       "    <tr>\n",
       "      <th>2962</th>\n",
       "      <td>98dddbc4601dd4443ca174359b237166</td>\n",
       "      <td>15.800</td>\n",
       "    </tr>\n",
       "    <tr>\n",
       "      <th>2963</th>\n",
       "      <td>f8201cab383e484733266d1906e2fdfa</td>\n",
       "      <td>1068.900</td>\n",
       "    </tr>\n",
       "    <tr>\n",
       "      <th>2964</th>\n",
       "      <td>74871d19219c7d518d0090283e03c137</td>\n",
       "      <td>455.004</td>\n",
       "    </tr>\n",
       "    <tr>\n",
       "      <th>2965</th>\n",
       "      <td>e603cf3fec55f8697c9059638d6c8eb5</td>\n",
       "      <td>299.700</td>\n",
       "    </tr>\n",
       "    <tr>\n",
       "      <th>2966</th>\n",
       "      <td>9e25199f6ef7e7c347120ff175652c3b</td>\n",
       "      <td>1.250</td>\n",
       "    </tr>\n",
       "  </tbody>\n",
       "</table>\n",
       "<p>2967 rows × 2 columns</p>\n",
       "</div>"
      ],
      "text/plain": [
       "                             seller_id    profit\n",
       "0     3442f8959a84dea7ee197c632cb2df15   201.870\n",
       "1     d1b65fc7debc3361ea86b5f14c68d2e2  2050.307\n",
       "2     ce3ad9de960102d0677a81f5d0bb7b2d    15.800\n",
       "3     c0f3eea2e14555b6faeea3dd58c1b1c3     7.999\n",
       "4     51a04a8a6bdcb23deccc82b0b80742cf   -83.201\n",
       "...                                ...       ...\n",
       "2962  98dddbc4601dd4443ca174359b237166    15.800\n",
       "2963  f8201cab383e484733266d1906e2fdfa  1068.900\n",
       "2964  74871d19219c7d518d0090283e03c137   455.004\n",
       "2965  e603cf3fec55f8697c9059638d6c8eb5   299.700\n",
       "2966  9e25199f6ef7e7c347120ff175652c3b     1.250\n",
       "\n",
       "[2967 rows x 2 columns]"
      ]
     },
     "execution_count": 7,
     "metadata": {},
     "output_type": "execute_result"
    }
   ],
   "source": [
    "#Caculate profit of each seller(excluding IT cost)\n",
    "profits_1 = revenues.merge(cost_of_reviews, on=\"seller_id\", how=\"left\")\n",
    "profits_1[\"profit\"] = profits_1[\"total_revenue\"] - profits_1[\"cost\"]\n",
    "profits_1 = profits_1[[\"seller_id\", \"profit\"]]\n",
    "profits_1"
   ]
  },
  {
   "cell_type": "code",
   "execution_count": 8,
   "id": "c39e5b2c-bff7-4110-a19f-ffd9a65e005d",
   "metadata": {
    "editable": true,
    "execution": {
     "iopub.execute_input": "2025-04-26T12:09:50.982584Z",
     "iopub.status.busy": "2025-04-26T12:09:50.982426Z",
     "iopub.status.idle": "2025-04-26T12:09:51.079452Z",
     "shell.execute_reply": "2025-04-26T12:09:51.079107Z",
     "shell.execute_reply.started": "2025-04-26T12:09:50.982572Z"
    },
    "slideshow": {
     "slide_type": "skip"
    },
    "tags": []
   },
   "outputs": [
    {
     "data": {
      "text/plain": [
       "<Axes: >"
      ]
     },
     "execution_count": 8,
     "metadata": {},
     "output_type": "execute_result"
    },
    {
     "data": {
      "image/png": "[encoded data removed]",
      "text/plain": [
       "<Figure size 640x480 with 1 Axes>"
      ]
     },
     "metadata": {},
     "output_type": "display_data"
    }
   ],
   "source": [
    "# Visualize profits of sellers\n",
    "profits_1 = profits_1.sort_values(by='profit').reset_index()\n",
    "profits_1.profit.plot()"
   ]
  },
  {
   "cell_type": "markdown",
   "id": "338db6a7-e86d-4809-bf0f-70cf33953cad",
   "metadata": {},
   "source": [
    "## Most of them don't contribute much to the overall profit, and only a small percentage significantly impacts it, either positively or negatively."
   ]
  },
  {
   "cell_type": "code",
   "execution_count": 9,
   "id": "015a1dfa-ef6a-4e99-9e37-a9224daa2991",
   "metadata": {
    "editable": true,
    "execution": {
     "iopub.execute_input": "2025-04-26T12:09:51.080079Z",
     "iopub.status.busy": "2025-04-26T12:09:51.079948Z",
     "iopub.status.idle": "2025-04-26T12:09:51.083801Z",
     "shell.execute_reply": "2025-04-26T12:09:51.082860Z",
     "shell.execute_reply.started": "2025-04-26T12:09:51.080067Z"
    },
    "slideshow": {
     "slide_type": "skip"
    },
    "tags": []
   },
   "outputs": [],
   "source": [
    "#IT cost function\n",
    "def IT_cost(number_of_sellers, number_of_items):\n",
    "    return 3157.27 * np.sqrt(number_of_sellers) + 978.23 * np.sqrt(number_of_items)"
   ]
  },
  {
   "cell_type": "code",
   "execution_count": 16,
   "id": "6f7167cc-d6c5-470d-9f88-04593d24f17b",
   "metadata": {
    "editable": true,
    "execution": {
     "iopub.execute_input": "2025-04-26T12:15:26.792193Z",
     "iopub.status.busy": "2025-04-26T12:15:26.790802Z",
     "iopub.status.idle": "2025-04-26T12:15:26.883685Z",
     "shell.execute_reply": "2025-04-26T12:15:26.883144Z",
     "shell.execute_reply.started": "2025-04-26T12:15:26.792122Z"
    },
    "slideshow": {
     "slide_type": "skip"
    },
    "tags": []
   },
   "outputs": [
    {
     "data": {
      "text/html": [
       "<div>\n",
       "<style scoped>\n",
       "    .dataframe tbody tr th:only-of-type {\n",
       "        vertical-align: middle;\n",
       "    }\n",
       "\n",
       "    .dataframe tbody tr th {\n",
       "        vertical-align: top;\n",
       "    }\n",
       "\n",
       "    .dataframe thead th {\n",
       "        text-align: right;\n",
       "    }\n",
       "</style>\n",
       "<table border=\"1\" class=\"dataframe\">\n",
       "  <thead>\n",
       "    <tr style=\"text-align: right;\">\n",
       "      <th></th>\n",
       "      <th>seller_id</th>\n",
       "      <th>product_num</th>\n",
       "    </tr>\n",
       "  </thead>\n",
       "  <tbody>\n",
       "    <tr>\n",
       "      <th>0</th>\n",
       "      <td>0015a82c2db000af6aaaf3ae2ecb0532</td>\n",
       "      <td>1</td>\n",
       "    </tr>\n",
       "    <tr>\n",
       "      <th>1</th>\n",
       "      <td>001cca7ae9ae17fb1caed9dfb1094831</td>\n",
       "      <td>11</td>\n",
       "    </tr>\n",
       "    <tr>\n",
       "      <th>2</th>\n",
       "      <td>001e6ad469a905060d959994f1b41e4f</td>\n",
       "      <td>1</td>\n",
       "    </tr>\n",
       "    <tr>\n",
       "      <th>3</th>\n",
       "      <td>002100f778ceb8431b7a1020ff7ab48f</td>\n",
       "      <td>24</td>\n",
       "    </tr>\n",
       "    <tr>\n",
       "      <th>4</th>\n",
       "      <td>003554e2dce176b5555353e4f3555ac8</td>\n",
       "      <td>1</td>\n",
       "    </tr>\n",
       "    <tr>\n",
       "      <th>...</th>\n",
       "      <td>...</td>\n",
       "      <td>...</td>\n",
       "    </tr>\n",
       "    <tr>\n",
       "      <th>3090</th>\n",
       "      <td>ffcfefa19b08742c5d315f2791395ee5</td>\n",
       "      <td>1</td>\n",
       "    </tr>\n",
       "    <tr>\n",
       "      <th>3091</th>\n",
       "      <td>ffdd9f82b9a447f6f8d4b91554cc7dd3</td>\n",
       "      <td>12</td>\n",
       "    </tr>\n",
       "    <tr>\n",
       "      <th>3092</th>\n",
       "      <td>ffeee66ac5d5a62fe688b9d26f83f534</td>\n",
       "      <td>3</td>\n",
       "    </tr>\n",
       "    <tr>\n",
       "      <th>3093</th>\n",
       "      <td>fffd5413c0700ac820c7069d66d98c89</td>\n",
       "      <td>29</td>\n",
       "    </tr>\n",
       "    <tr>\n",
       "      <th>3094</th>\n",
       "      <td>ffff564a4f9085cd26170f4732393726</td>\n",
       "      <td>15</td>\n",
       "    </tr>\n",
       "  </tbody>\n",
       "</table>\n",
       "<p>3095 rows × 2 columns</p>\n",
       "</div>"
      ],
      "text/plain": [
       "                             seller_id  product_num\n",
       "0     0015a82c2db000af6aaaf3ae2ecb0532            1\n",
       "1     001cca7ae9ae17fb1caed9dfb1094831           11\n",
       "2     001e6ad469a905060d959994f1b41e4f            1\n",
       "3     002100f778ceb8431b7a1020ff7ab48f           24\n",
       "4     003554e2dce176b5555353e4f3555ac8            1\n",
       "...                                ...          ...\n",
       "3090  ffcfefa19b08742c5d315f2791395ee5            1\n",
       "3091  ffdd9f82b9a447f6f8d4b91554cc7dd3           12\n",
       "3092  ffeee66ac5d5a62fe688b9d26f83f534            3\n",
       "3093  fffd5413c0700ac820c7069d66d98c89           29\n",
       "3094  ffff564a4f9085cd26170f4732393726           15\n",
       "\n",
       "[3095 rows x 2 columns]"
      ]
     },
     "execution_count": 16,
     "metadata": {},
     "output_type": "execute_result"
    }
   ],
   "source": [
    "#Number of products they sell\n",
    "num_products = df[\"order_items\"].merge(df[\"products\"], on=\"product_id\", how=\"left\")\n",
    "num_products = num_products.groupby(\"seller_id\")[\"product_id\"].nunique().reset_index()\n",
    "num_products.rename(columns={'product_id': 'product_num'}, inplace=True)\n",
    "num_products"
   ]
  },
  {
   "cell_type": "code",
   "execution_count": 17,
   "id": "a88725c7-0b32-4615-a9f2-fd78934bc938",
   "metadata": {
    "editable": true,
    "execution": {
     "iopub.execute_input": "2025-04-26T12:15:33.877641Z",
     "iopub.status.busy": "2025-04-26T12:15:33.877072Z",
     "iopub.status.idle": "2025-04-26T12:15:33.930015Z",
     "shell.execute_reply": "2025-04-26T12:15:33.928988Z",
     "shell.execute_reply.started": "2025-04-26T12:15:33.877601Z"
    },
    "slideshow": {
     "slide_type": "skip"
    },
    "tags": []
   },
   "outputs": [
    {
     "data": {
      "text/html": [
       "<div>\n",
       "<style scoped>\n",
       "    .dataframe tbody tr th:only-of-type {\n",
       "        vertical-align: middle;\n",
       "    }\n",
       "\n",
       "    .dataframe tbody tr th {\n",
       "        vertical-align: top;\n",
       "    }\n",
       "\n",
       "    .dataframe thead th {\n",
       "        text-align: right;\n",
       "    }\n",
       "</style>\n",
       "<table border=\"1\" class=\"dataframe\">\n",
       "  <thead>\n",
       "    <tr style=\"text-align: right;\">\n",
       "      <th></th>\n",
       "      <th>index</th>\n",
       "      <th>seller_id</th>\n",
       "      <th>profit</th>\n",
       "      <th>cumulative_profit</th>\n",
       "      <th>unique_id</th>\n",
       "      <th>product_num</th>\n",
       "      <th>cumulative_product_num</th>\n",
       "      <th>cumulative_IT_cost</th>\n",
       "      <th>final_profit</th>\n",
       "    </tr>\n",
       "  </thead>\n",
       "  <tbody>\n",
       "    <tr>\n",
       "      <th>0</th>\n",
       "      <td>868</td>\n",
       "      <td>53243585a1d6dc2643021fd1853d8905</td>\n",
       "      <td>17197.605</td>\n",
       "      <td>17197.605</td>\n",
       "      <td>1</td>\n",
       "      <td>23</td>\n",
       "      <td>23</td>\n",
       "      <td>7848.696271</td>\n",
       "      <td>9348.908729</td>\n",
       "    </tr>\n",
       "    <tr>\n",
       "      <th>1</th>\n",
       "      <td>534</td>\n",
       "      <td>fa1c13f2614d7b5c4749cbc52fecda94</td>\n",
       "      <td>14494.203</td>\n",
       "      <td>31691.808</td>\n",
       "      <td>2</td>\n",
       "      <td>289</td>\n",
       "      <td>312</td>\n",
       "      <td>21744.040919</td>\n",
       "      <td>9947.767081</td>\n",
       "    </tr>\n",
       "    <tr>\n",
       "      <th>2</th>\n",
       "      <td>67</td>\n",
       "      <td>7e93a43ef30c4f03f38b393420bc753a</td>\n",
       "      <td>14483.187</td>\n",
       "      <td>46174.995</td>\n",
       "      <td>3</td>\n",
       "      <td>186</td>\n",
       "      <td>498</td>\n",
       "      <td>27298.648218</td>\n",
       "      <td>18876.346782</td>\n",
       "    </tr>\n",
       "    <tr>\n",
       "      <th>3</th>\n",
       "      <td>2151</td>\n",
       "      <td>edb1ef5e36e0c8cd84eb3c9b003e486d</td>\n",
       "      <td>7238.455</td>\n",
       "      <td>53413.450</td>\n",
       "      <td>4</td>\n",
       "      <td>55</td>\n",
       "      <td>553</td>\n",
       "      <td>29318.549757</td>\n",
       "      <td>24094.900243</td>\n",
       "    </tr>\n",
       "    <tr>\n",
       "      <th>4</th>\n",
       "      <td>9</td>\n",
       "      <td>ccc4bbb5f32a6ab2b7066a4130f114e3</td>\n",
       "      <td>6700.462</td>\n",
       "      <td>60113.912</td>\n",
       "      <td>5</td>\n",
       "      <td>12</td>\n",
       "      <td>565</td>\n",
       "      <td>30312.131999</td>\n",
       "      <td>29801.780001</td>\n",
       "    </tr>\n",
       "    <tr>\n",
       "      <th>...</th>\n",
       "      <td>...</td>\n",
       "      <td>...</td>\n",
       "      <td>...</td>\n",
       "      <td>...</td>\n",
       "      <td>...</td>\n",
       "      <td>...</td>\n",
       "      <td>...</td>\n",
       "      <td>...</td>\n",
       "      <td>...</td>\n",
       "    </tr>\n",
       "    <tr>\n",
       "      <th>2962</th>\n",
       "      <td>1357</td>\n",
       "      <td>cc419e0650a3c5ba77189a1882b7556a</td>\n",
       "      <td>-19121.158</td>\n",
       "      <td>929424.359</td>\n",
       "      <td>2963</td>\n",
       "      <td>37</td>\n",
       "      <td>33420</td>\n",
       "      <td>350692.659291</td>\n",
       "      <td>578731.699709</td>\n",
       "    </tr>\n",
       "    <tr>\n",
       "      <th>2963</th>\n",
       "      <td>2358</td>\n",
       "      <td>4a3ca9315b744ce9f8e9374361493884</td>\n",
       "      <td>-22972.708</td>\n",
       "      <td>906451.651</td>\n",
       "      <td>2964</td>\n",
       "      <td>399</td>\n",
       "      <td>33819</td>\n",
       "      <td>351786.022008</td>\n",
       "      <td>554665.628992</td>\n",
       "    </tr>\n",
       "    <tr>\n",
       "      <th>2964</th>\n",
       "      <td>1132</td>\n",
       "      <td>7c67e1448b00f6e969d365cea6b010ab</td>\n",
       "      <td>-23977.611</td>\n",
       "      <td>882474.040</td>\n",
       "      <td>2965</td>\n",
       "      <td>198</td>\n",
       "      <td>34017</td>\n",
       "      <td>352340.865428</td>\n",
       "      <td>530133.174572</td>\n",
       "    </tr>\n",
       "    <tr>\n",
       "      <th>2965</th>\n",
       "      <td>453</td>\n",
       "      <td>1f50f920176fa81dab994f9023523100</td>\n",
       "      <td>-25436.079</td>\n",
       "      <td>857037.961</td>\n",
       "      <td>2966</td>\n",
       "      <td>23</td>\n",
       "      <td>34040</td>\n",
       "      <td>352430.838609</td>\n",
       "      <td>504607.122391</td>\n",
       "    </tr>\n",
       "    <tr>\n",
       "      <th>2966</th>\n",
       "      <td>769</td>\n",
       "      <td>6560211a19b47992c3666cc44a7e94c0</td>\n",
       "      <td>-26269.517</td>\n",
       "      <td>830768.444</td>\n",
       "      <td>2967</td>\n",
       "      <td>256</td>\n",
       "      <td>34296</td>\n",
       "      <td>353137.217603</td>\n",
       "      <td>477631.226397</td>\n",
       "    </tr>\n",
       "  </tbody>\n",
       "</table>\n",
       "<p>2967 rows × 9 columns</p>\n",
       "</div>"
      ],
      "text/plain": [
       "      index                         seller_id     profit  cumulative_profit  \\\n",
       "0       868  53243585a1d6dc2643021fd1853d8905  17197.605          17197.605   \n",
       "1       534  fa1c13f2614d7b5c4749cbc52fecda94  14494.203          31691.808   \n",
       "2        67  7e93a43ef30c4f03f38b393420bc753a  14483.187          46174.995   \n",
       "3      2151  edb1ef5e36e0c8cd84eb3c9b003e486d   7238.455          53413.450   \n",
       "4         9  ccc4bbb5f32a6ab2b7066a4130f114e3   6700.462          60113.912   \n",
       "...     ...                               ...        ...                ...   \n",
       "2962   1357  cc419e0650a3c5ba77189a1882b7556a -19121.158         929424.359   \n",
       "2963   2358  4a3ca9315b744ce9f8e9374361493884 -22972.708         906451.651   \n",
       "2964   1132  7c67e1448b00f6e969d365cea6b010ab -23977.611         882474.040   \n",
       "2965    453  1f50f920176fa81dab994f9023523100 -25436.079         857037.961   \n",
       "2966    769  6560211a19b47992c3666cc44a7e94c0 -26269.517         830768.444   \n",
       "\n",
       "      unique_id  product_num  cumulative_product_num  cumulative_IT_cost  \\\n",
       "0             1           23                      23         7848.696271   \n",
       "1             2          289                     312        21744.040919   \n",
       "2             3          186                     498        27298.648218   \n",
       "3             4           55                     553        29318.549757   \n",
       "4             5           12                     565        30312.131999   \n",
       "...         ...          ...                     ...                 ...   \n",
       "2962       2963           37                   33420       350692.659291   \n",
       "2963       2964          399                   33819       351786.022008   \n",
       "2964       2965          198                   34017       352340.865428   \n",
       "2965       2966           23                   34040       352430.838609   \n",
       "2966       2967          256                   34296       353137.217603   \n",
       "\n",
       "       final_profit  \n",
       "0       9348.908729  \n",
       "1       9947.767081  \n",
       "2      18876.346782  \n",
       "3      24094.900243  \n",
       "4      29801.780001  \n",
       "...             ...  \n",
       "2962  578731.699709  \n",
       "2963  554665.628992  \n",
       "2964  530133.174572  \n",
       "2965  504607.122391  \n",
       "2966  477631.226397  \n",
       "\n",
       "[2967 rows x 9 columns]"
      ]
     },
     "execution_count": 17,
     "metadata": {},
     "output_type": "execute_result"
    }
   ],
   "source": [
    "#Caculate profit of each seller(including IT cost)\n",
    "profits = profits_1.sort_values(\"profit\", ascending=False)\n",
    "profits[\"cumulative_profit\"] = profits[\"profit\"].cumsum()\n",
    "profits[\"unique_id\"] = range(1, len(profits) + 1)\n",
    "profits = profits.merge(num_products, on=\"seller_id\", how=\"left\")\n",
    "profits.rename(columns={\"product_id\": \"product_num\"}, inplace=True)\n",
    "profits[\"cumulative_product_num\"] = profits[\"product_num\"].cumsum()\n",
    "profits[\"cumulative_IT_cost\"] = profits.apply(lambda row: IT_cost(row[\"unique_id\"], row[\"cumulative_product_num\"]), axis=1)\n",
    "profits[\"final_profit\"] = profits[\"cumulative_profit\"] - profits[\"cumulative_IT_cost\"]\n",
    "profits"
   ]
  },
  {
   "cell_type": "code",
   "execution_count": 13,
   "id": "3d79a63d-b918-413f-bd8c-f6135abdaaf0",
   "metadata": {
    "editable": true,
    "execution": {
     "iopub.execute_input": "2025-04-26T12:10:02.936654Z",
     "iopub.status.busy": "2025-04-26T12:10:02.936167Z",
     "iopub.status.idle": "2025-04-26T12:10:03.118457Z",
     "shell.execute_reply": "2025-04-26T12:10:03.118056Z",
     "shell.execute_reply.started": "2025-04-26T12:10:02.936626Z"
    },
    "slideshow": {
     "slide_type": "subslide"
    },
    "tags": []
   },
   "outputs": [
    {
     "data": {
      "image/png": "[encoded data removed]",
      "text/plain": [
       "<Figure size 640x480 with 1 Axes>"
      ]
     },
     "metadata": {},
     "output_type": "display_data"
    }
   ],
   "source": [
    "#Profit_transition\n",
    "profits.final_profit.plot()\n",
    "plt.title(\"Profit Distribution\")\n",
    "plt.xlabel(\"Sellers (ranked by profit - bad review cost)\")\n",
    "plt.ylabel(\"Profit (BRL)\")\n",
    "plt.tight_layout()\n",
    "plt.gca().get_yaxis().set_major_formatter(ticker.FuncFormatter(lambda x, _: f'{x:,.0f}'))\n",
    "plt.show()"
   ]
  },
  {
   "cell_type": "markdown",
   "id": "bdf4c94d-0546-4c01-ab92-9c882f87f543",
   "metadata": {
    "editable": true,
    "slideshow": {
     "slide_type": "subslide"
    },
    "tags": []
   },
   "source": [
    "## 2.Caculate the impact of fireing them\n",
    "\n",
    "### We have two options\n",
    "### 1. Fire all sellers who are negatively contributing to the overall profit.\n",
    "### 2. Fire only those sellers who are significantly negatively contributing to the overall profit.\n"
   ]
  },
  {
   "cell_type": "code",
   "execution_count": 22,
   "id": "f0158f8e-ae2c-4a8d-9344-75deaacde794",
   "metadata": {
    "editable": true,
    "execution": {
     "iopub.execute_input": "2025-04-26T12:18:10.835950Z",
     "iopub.status.busy": "2025-04-26T12:18:10.835454Z",
     "iopub.status.idle": "2025-04-26T12:18:10.969168Z",
     "shell.execute_reply": "2025-04-26T12:18:10.968752Z",
     "shell.execute_reply.started": "2025-04-26T12:18:10.835919Z"
    },
    "slideshow": {
     "slide_type": "subslide"
    },
    "tags": []
   },
   "outputs": [
    {
     "data": {
      "image/png": "[encoded data removed]",
      "text/plain": [
       "<Figure size 1000x600 with 1 Axes>"
      ]
     },
     "metadata": {},
     "output_type": "display_data"
    }
   ],
   "source": [
    "#Plot the slope of the previous graph to visualize how they contribute to the overall profit\n",
    "plt.figure(figsize=(10, 6))\n",
    "profits['slope'] = profits['cumulative_profit'].diff()\n",
    "plt.plot(profits['slope'], label='Slope of Profit Distribution', color='orange')\n",
    "plt.axhline(0, color='red', linestyle='--', label='y=0 Line')\n",
    "plt.axvline(x=1800, color='blue', linestyle='--', label='no more profit line(x=1800)')\n",
    "plt.axvline(x=2850, color='blue', linestyle='--', label='significantly bad line(x=2850) ')\n",
    "plt.title(\"Slope of Profit Distribution with Intersection Points\")\n",
    "plt.xlabel(\"Sellers (ranked by profit - bad review cost)\")\n",
    "plt.ylabel(\"Slope (Profit Change)\")\n",
    "plt.tight_layout()\n",
    "plt.legend()\n",
    "plt.show()"
   ]
  },
  {
   "cell_type": "code",
   "execution_count": null,
   "id": "05764383-5390-43e6-a284-a6ffe254f7fa",
   "metadata": {},
   "outputs": [],
   "source": []
  },
  {
   "cell_type": "markdown",
   "id": "ff748b17-e22f-441e-b86d-e0ea6def6541",
   "metadata": {},
   "source": [
    "## The slope remains zero from x = 1800 up to a certain point, indicating that these sellers do not contribute to profit at all. Beyond x = 2850, the slope starts to decrease sharply, meaning their contribution to profit becomes significantly negative."
   ]
  },
  {
   "cell_type": "code",
   "execution_count": 23,
   "id": "41b6f38b-a764-459e-afe7-b758e644882a",
   "metadata": {
    "editable": true,
    "execution": {
     "iopub.execute_input": "2025-04-26T12:25:07.218532Z",
     "iopub.status.busy": "2025-04-26T12:25:07.217025Z",
     "iopub.status.idle": "2025-04-26T12:25:07.239474Z",
     "shell.execute_reply": "2025-04-26T12:25:07.238801Z",
     "shell.execute_reply.started": "2025-04-26T12:25:07.218478Z"
    },
    "slideshow": {
     "slide_type": "skip"
    },
    "tags": []
   },
   "outputs": [
    {
     "name": "stdout",
     "output_type": "stream",
     "text": [
      "What if we excludes bad sellers\n",
      "Number of products you would lose: 14360\n",
      "Percentage of products you would lose is: 41.9%\n",
      "What if we excludes very bad sellers\n",
      "Number of products you would lose: 8287\n",
      "Percentage of products you would lose is: 24.2%\n"
     ]
    }
   ],
   "source": [
    "#Caculate the impact of underperforming sellers\n",
    "no_more_profits = profits[profits[\"unique_id\"] >= 1800]\n",
    "print(\"What if we excludes bad sellers\")\n",
    "print(f\"Number of products you would lose: {no_more_profits['product_num'].sum()}\")\n",
    "print(f\"Percentage of products you would lose is: {round(100*(no_more_profits[\"product_num\"].sum()/profits[\"product_num\"].sum()),1)}%\")\n",
    "very_bad_profits = profits[profits[\"unique_id\"] >= 2850] \n",
    "print(\"What if we excludes very bad sellers\")\n",
    "print(f\"Number of products you would lose: {very_bad_profits['product_num'].sum()}\")\n",
    "print(f\"Percentage of products you would lose is: {round(100*(very_bad_profits[\"product_num\"].sum()/profits[\"product_num\"].sum()),1)}%\")"
   ]
  },
  {
   "cell_type": "markdown",
   "id": "086650d5-9456-4458-b3fb-1b956550f526",
   "metadata": {
    "editable": true,
    "execution": {
     "iopub.execute_input": "2025-04-25T07:38:47.489078Z",
     "iopub.status.busy": "2025-04-25T07:38:47.487360Z",
     "iopub.status.idle": "2025-04-25T07:38:47.496011Z",
     "shell.execute_reply": "2025-04-25T07:38:47.495317Z",
     "shell.execute_reply.started": "2025-04-25T07:38:47.488992Z"
    },
    "slideshow": {
     "slide_type": "subslide"
    },
    "tags": []
   },
   "source": [
    "## if we exclude bad sellers....\n",
    "### Number of products you would lose: 14360\n",
    "### Percentage of products you would lose is: 41.9%\n",
    "## if we exclude very bad sellers....\n",
    "### Number of products you would lose: 8287\n",
    "### Percentage of products you would lose is: 24.2%"
   ]
  },
  {
   "cell_type": "markdown",
   "id": "6907481d-4d9e-488e-8f1a-7ecbca414293",
   "metadata": {
    "editable": true,
    "slideshow": {
     "slide_type": "subslide"
    },
    "tags": []
   },
   "source": [
    "## Maybe we could lose just 10% of all products..."
   ]
  },
  {
   "cell_type": "code",
   "execution_count": 18,
   "id": "6a91abaf-7431-436d-9a9c-f4f1a363014a",
   "metadata": {
    "editable": true,
    "execution": {
     "iopub.execute_input": "2025-04-25T08:09:54.447602Z",
     "iopub.status.busy": "2025-04-25T08:09:54.447475Z",
     "iopub.status.idle": "2025-04-25T08:09:59.966135Z",
     "shell.execute_reply": "2025-04-25T08:09:59.965583Z",
     "shell.execute_reply.started": "2025-04-25T08:09:54.447592Z"
    },
    "slideshow": {
     "slide_type": "skip"
    },
    "tags": []
   },
   "outputs": [
    {
     "name": "stderr",
     "output_type": "stream",
     "text": [
      "/Users/suzukikenta/code/KentaSuzukii/04-Decision-Science/01-Project-Setup/data-context-and-setup/olist/seller.py:100: FutureWarning: The provided callable <built-in function min> is currently using SeriesGroupBy.min. In a future version of pandas, the provided callable will be used directly. To keep current behavior pass the string \"min\" instead.\n",
      "  df = orders_sellers.groupby('seller_id').agg({\n",
      "/Users/suzukikenta/code/KentaSuzukii/04-Decision-Science/01-Project-Setup/data-context-and-setup/olist/seller.py:100: FutureWarning: The provided callable <built-in function max> is currently using SeriesGroupBy.max. In a future version of pandas, the provided callable will be used directly. To keep current behavior pass the string \"max\" instead.\n",
      "  df = orders_sellers.groupby('seller_id').agg({\n"
     ]
    },
    {
     "data": {
      "text/html": [
       "<div>\n",
       "<style scoped>\n",
       "    .dataframe tbody tr th:only-of-type {\n",
       "        vertical-align: middle;\n",
       "    }\n",
       "\n",
       "    .dataframe tbody tr th {\n",
       "        vertical-align: top;\n",
       "    }\n",
       "\n",
       "    .dataframe thead th {\n",
       "        text-align: right;\n",
       "    }\n",
       "</style>\n",
       "<table border=\"1\" class=\"dataframe\">\n",
       "  <thead>\n",
       "    <tr style=\"text-align: right;\">\n",
       "      <th></th>\n",
       "      <th>seller_id</th>\n",
       "      <th>seller_city</th>\n",
       "      <th>seller_state</th>\n",
       "      <th>delay_to_carrier</th>\n",
       "      <th>wait_time</th>\n",
       "      <th>date_first_sale</th>\n",
       "      <th>date_last_sale</th>\n",
       "      <th>months_on_olist</th>\n",
       "      <th>n_orders</th>\n",
       "      <th>quantity</th>\n",
       "      <th>quantity_per_order</th>\n",
       "      <th>sales</th>\n",
       "      <th>share_of_five_stars</th>\n",
       "      <th>share_of_one_stars</th>\n",
       "      <th>review_score</th>\n",
       "    </tr>\n",
       "  </thead>\n",
       "  <tbody>\n",
       "    <tr>\n",
       "      <th>0</th>\n",
       "      <td>3442f8959a84dea7ee197c632cb2df15</td>\n",
       "      <td>campinas</td>\n",
       "      <td>SP</td>\n",
       "      <td>0.000000</td>\n",
       "      <td>13.018588</td>\n",
       "      <td>2017-05-05 16:25:11</td>\n",
       "      <td>2017-08-30 12:50:19</td>\n",
       "      <td>4.0</td>\n",
       "      <td>3</td>\n",
       "      <td>3</td>\n",
       "      <td>1.000000</td>\n",
       "      <td>218.70</td>\n",
       "      <td>0.333333</td>\n",
       "      <td>0.333333</td>\n",
       "      <td>3.000000</td>\n",
       "    </tr>\n",
       "    <tr>\n",
       "      <th>1</th>\n",
       "      <td>d1b65fc7debc3361ea86b5f14c68d2e2</td>\n",
       "      <td>mogi guacu</td>\n",
       "      <td>SP</td>\n",
       "      <td>0.000000</td>\n",
       "      <td>9.065716</td>\n",
       "      <td>2017-03-29 02:10:34</td>\n",
       "      <td>2018-06-06 20:15:21</td>\n",
       "      <td>14.0</td>\n",
       "      <td>40</td>\n",
       "      <td>41</td>\n",
       "      <td>1.025000</td>\n",
       "      <td>11703.07</td>\n",
       "      <td>0.731707</td>\n",
       "      <td>0.048780</td>\n",
       "      <td>4.560976</td>\n",
       "    </tr>\n",
       "    <tr>\n",
       "      <th>2</th>\n",
       "      <td>ce3ad9de960102d0677a81f5d0bb7b2d</td>\n",
       "      <td>rio de janeiro</td>\n",
       "      <td>RJ</td>\n",
       "      <td>0.000000</td>\n",
       "      <td>4.042292</td>\n",
       "      <td>2018-07-30 12:44:49</td>\n",
       "      <td>2018-07-30 12:44:49</td>\n",
       "      <td>0.0</td>\n",
       "      <td>1</td>\n",
       "      <td>1</td>\n",
       "      <td>1.000000</td>\n",
       "      <td>158.00</td>\n",
       "      <td>1.000000</td>\n",
       "      <td>0.000000</td>\n",
       "      <td>5.000000</td>\n",
       "    </tr>\n",
       "    <tr>\n",
       "      <th>3</th>\n",
       "      <td>c0f3eea2e14555b6faeea3dd58c1b1c3</td>\n",
       "      <td>sao paulo</td>\n",
       "      <td>SP</td>\n",
       "      <td>0.000000</td>\n",
       "      <td>5.667187</td>\n",
       "      <td>2018-08-03 00:44:08</td>\n",
       "      <td>2018-08-03 00:44:08</td>\n",
       "      <td>0.0</td>\n",
       "      <td>1</td>\n",
       "      <td>1</td>\n",
       "      <td>1.000000</td>\n",
       "      <td>79.99</td>\n",
       "      <td>1.000000</td>\n",
       "      <td>0.000000</td>\n",
       "      <td>5.000000</td>\n",
       "    </tr>\n",
       "    <tr>\n",
       "      <th>4</th>\n",
       "      <td>51a04a8a6bdcb23deccc82b0b80742cf</td>\n",
       "      <td>braganca paulista</td>\n",
       "      <td>SP</td>\n",
       "      <td>3.353727</td>\n",
       "      <td>35.314861</td>\n",
       "      <td>2017-11-14 12:15:25</td>\n",
       "      <td>2017-11-14 12:15:25</td>\n",
       "      <td>0.0</td>\n",
       "      <td>1</td>\n",
       "      <td>1</td>\n",
       "      <td>1.000000</td>\n",
       "      <td>167.99</td>\n",
       "      <td>0.000000</td>\n",
       "      <td>1.000000</td>\n",
       "      <td>1.000000</td>\n",
       "    </tr>\n",
       "    <tr>\n",
       "      <th>...</th>\n",
       "      <td>...</td>\n",
       "      <td>...</td>\n",
       "      <td>...</td>\n",
       "      <td>...</td>\n",
       "      <td>...</td>\n",
       "      <td>...</td>\n",
       "      <td>...</td>\n",
       "      <td>...</td>\n",
       "      <td>...</td>\n",
       "      <td>...</td>\n",
       "      <td>...</td>\n",
       "      <td>...</td>\n",
       "      <td>...</td>\n",
       "      <td>...</td>\n",
       "      <td>...</td>\n",
       "    </tr>\n",
       "    <tr>\n",
       "      <th>2962</th>\n",
       "      <td>98dddbc4601dd4443ca174359b237166</td>\n",
       "      <td>sarandi</td>\n",
       "      <td>PR</td>\n",
       "      <td>0.000000</td>\n",
       "      <td>8.230822</td>\n",
       "      <td>2018-07-14 03:10:19</td>\n",
       "      <td>2018-07-23 15:34:03</td>\n",
       "      <td>0.0</td>\n",
       "      <td>2</td>\n",
       "      <td>2</td>\n",
       "      <td>1.000000</td>\n",
       "      <td>158.00</td>\n",
       "      <td>1.000000</td>\n",
       "      <td>0.000000</td>\n",
       "      <td>5.000000</td>\n",
       "    </tr>\n",
       "    <tr>\n",
       "      <th>2963</th>\n",
       "      <td>f8201cab383e484733266d1906e2fdfa</td>\n",
       "      <td>palhoca</td>\n",
       "      <td>SC</td>\n",
       "      <td>0.000000</td>\n",
       "      <td>13.045797</td>\n",
       "      <td>2017-06-17 15:30:11</td>\n",
       "      <td>2018-08-11 19:55:17</td>\n",
       "      <td>14.0</td>\n",
       "      <td>10</td>\n",
       "      <td>10</td>\n",
       "      <td>1.000000</td>\n",
       "      <td>889.00</td>\n",
       "      <td>0.500000</td>\n",
       "      <td>0.100000</td>\n",
       "      <td>4.100000</td>\n",
       "    </tr>\n",
       "    <tr>\n",
       "      <th>2964</th>\n",
       "      <td>74871d19219c7d518d0090283e03c137</td>\n",
       "      <td>sao paulo</td>\n",
       "      <td>SP</td>\n",
       "      <td>0.000000</td>\n",
       "      <td>3.606625</td>\n",
       "      <td>2018-04-05 17:09:46</td>\n",
       "      <td>2018-08-21 19:25:15</td>\n",
       "      <td>5.0</td>\n",
       "      <td>6</td>\n",
       "      <td>7</td>\n",
       "      <td>1.166667</td>\n",
       "      <td>550.04</td>\n",
       "      <td>1.000000</td>\n",
       "      <td>0.000000</td>\n",
       "      <td>5.000000</td>\n",
       "    </tr>\n",
       "    <tr>\n",
       "      <th>2965</th>\n",
       "      <td>e603cf3fec55f8697c9059638d6c8eb5</td>\n",
       "      <td>pelotas</td>\n",
       "      <td>RS</td>\n",
       "      <td>0.000000</td>\n",
       "      <td>6.657634</td>\n",
       "      <td>2017-02-09 02:43:17</td>\n",
       "      <td>2017-06-16 17:30:16</td>\n",
       "      <td>4.0</td>\n",
       "      <td>8</td>\n",
       "      <td>11</td>\n",
       "      <td>1.375000</td>\n",
       "      <td>297.00</td>\n",
       "      <td>0.636364</td>\n",
       "      <td>0.000000</td>\n",
       "      <td>4.454545</td>\n",
       "    </tr>\n",
       "    <tr>\n",
       "      <th>2966</th>\n",
       "      <td>9e25199f6ef7e7c347120ff175652c3b</td>\n",
       "      <td>taubate</td>\n",
       "      <td>SP</td>\n",
       "      <td>0.000000</td>\n",
       "      <td>8.199456</td>\n",
       "      <td>2017-03-27 10:10:27</td>\n",
       "      <td>2017-03-27 10:10:27</td>\n",
       "      <td>0.0</td>\n",
       "      <td>1</td>\n",
       "      <td>1</td>\n",
       "      <td>1.000000</td>\n",
       "      <td>12.50</td>\n",
       "      <td>0.000000</td>\n",
       "      <td>0.000000</td>\n",
       "      <td>4.000000</td>\n",
       "    </tr>\n",
       "  </tbody>\n",
       "</table>\n",
       "<p>2967 rows × 15 columns</p>\n",
       "</div>"
      ],
      "text/plain": [
       "                             seller_id        seller_city seller_state  \\\n",
       "0     3442f8959a84dea7ee197c632cb2df15           campinas           SP   \n",
       "1     d1b65fc7debc3361ea86b5f14c68d2e2         mogi guacu           SP   \n",
       "2     ce3ad9de960102d0677a81f5d0bb7b2d     rio de janeiro           RJ   \n",
       "3     c0f3eea2e14555b6faeea3dd58c1b1c3          sao paulo           SP   \n",
       "4     51a04a8a6bdcb23deccc82b0b80742cf  braganca paulista           SP   \n",
       "...                                ...                ...          ...   \n",
       "2962  98dddbc4601dd4443ca174359b237166            sarandi           PR   \n",
       "2963  f8201cab383e484733266d1906e2fdfa            palhoca           SC   \n",
       "2964  74871d19219c7d518d0090283e03c137          sao paulo           SP   \n",
       "2965  e603cf3fec55f8697c9059638d6c8eb5            pelotas           RS   \n",
       "2966  9e25199f6ef7e7c347120ff175652c3b            taubate           SP   \n",
       "\n",
       "      delay_to_carrier  wait_time     date_first_sale      date_last_sale  \\\n",
       "0             0.000000  13.018588 2017-05-05 16:25:11 2017-08-30 12:50:19   \n",
       "1             0.000000   9.065716 2017-03-29 02:10:34 2018-06-06 20:15:21   \n",
       "2             0.000000   4.042292 2018-07-30 12:44:49 2018-07-30 12:44:49   \n",
       "3             0.000000   5.667187 2018-08-03 00:44:08 2018-08-03 00:44:08   \n",
       "4             3.353727  35.314861 2017-11-14 12:15:25 2017-11-14 12:15:25   \n",
       "...                ...        ...                 ...                 ...   \n",
       "2962          0.000000   8.230822 2018-07-14 03:10:19 2018-07-23 15:34:03   \n",
       "2963          0.000000  13.045797 2017-06-17 15:30:11 2018-08-11 19:55:17   \n",
       "2964          0.000000   3.606625 2018-04-05 17:09:46 2018-08-21 19:25:15   \n",
       "2965          0.000000   6.657634 2017-02-09 02:43:17 2017-06-16 17:30:16   \n",
       "2966          0.000000   8.199456 2017-03-27 10:10:27 2017-03-27 10:10:27   \n",
       "\n",
       "      months_on_olist  n_orders  quantity  quantity_per_order     sales  \\\n",
       "0                 4.0         3         3            1.000000    218.70   \n",
       "1                14.0        40        41            1.025000  11703.07   \n",
       "2                 0.0         1         1            1.000000    158.00   \n",
       "3                 0.0         1         1            1.000000     79.99   \n",
       "4                 0.0         1         1            1.000000    167.99   \n",
       "...               ...       ...       ...                 ...       ...   \n",
       "2962              0.0         2         2            1.000000    158.00   \n",
       "2963             14.0        10        10            1.000000    889.00   \n",
       "2964              5.0         6         7            1.166667    550.04   \n",
       "2965              4.0         8        11            1.375000    297.00   \n",
       "2966              0.0         1         1            1.000000     12.50   \n",
       "\n",
       "      share_of_five_stars  share_of_one_stars  review_score  \n",
       "0                0.333333            0.333333      3.000000  \n",
       "1                0.731707            0.048780      4.560976  \n",
       "2                1.000000            0.000000      5.000000  \n",
       "3                1.000000            0.000000      5.000000  \n",
       "4                0.000000            1.000000      1.000000  \n",
       "...                   ...                 ...           ...  \n",
       "2962             1.000000            0.000000      5.000000  \n",
       "2963             0.500000            0.100000      4.100000  \n",
       "2964             1.000000            0.000000      5.000000  \n",
       "2965             0.636364            0.000000      4.454545  \n",
       "2966             0.000000            0.000000      4.000000  \n",
       "\n",
       "[2967 rows x 15 columns]"
      ]
     },
     "execution_count": 18,
     "metadata": {},
     "output_type": "execute_result"
    }
   ],
   "source": [
    "from olist.seller import Seller\n",
    "sell = Seller().get_training_data()\n",
    "sell"
   ]
  },
  {
   "cell_type": "code",
   "execution_count": 24,
   "id": "8e28a30e-2ebb-4db3-bc1a-508c3090d5d0",
   "metadata": {
    "editable": true,
    "execution": {
     "iopub.execute_input": "2025-04-26T12:31:26.087871Z",
     "iopub.status.busy": "2025-04-26T12:31:26.086104Z",
     "iopub.status.idle": "2025-04-26T12:31:26.114455Z",
     "shell.execute_reply": "2025-04-26T12:31:26.113989Z",
     "shell.execute_reply.started": "2025-04-26T12:31:26.087804Z"
    },
    "slideshow": {
     "slide_type": "skip"
    },
    "tags": []
   },
   "outputs": [
    {
     "name": "stdout",
     "output_type": "stream",
     "text": [
      "Total products:34296\n",
      "10% of totla products:3429.6\n",
      "How many sellers you should fire: 26\n"
     ]
    }
   ],
   "source": [
    "#Decide how many people we should fire under the condition that we cannot lose more than 10% of production capability\n",
    "product_num_value = no_more_profits.loc[no_more_profits['unique_id'] == 2967, 'cumulative_product_num'].values[0]\n",
    "print(f\"Total products:{product_num_value}\")\n",
    "print(f\"10% of totla products:{product_num_value/10}\")\n",
    "lower_bound = product_num_value - (product_num_value / 10)\n",
    "result = no_more_profits[no_more_profits['cumulative_product_num'].between(lower_bound, product_num_value)]\n",
    "result['unique_id']\n",
    "print(f\"How many sellers you should fire: {len(result[['unique_id', 'cumulative_product_num']])}\")                                                                 "
   ]
  },
  {
   "cell_type": "markdown",
   "id": "6d0d9205-bdd6-46d5-9cdb-ee5a87e9d593",
   "metadata": {
    "editable": true,
    "slideshow": {
     "slide_type": "subslide"
    },
    "tags": []
   },
   "source": [
    "### Total products:34296\n",
    "### 10% of totla products:3429.6\n",
    "### How many sellers you should fire: 26"
   ]
  },
  {
   "cell_type": "code",
   "execution_count": 25,
   "id": "27f3142a-451c-4a45-8fd5-fddc40edae09",
   "metadata": {
    "editable": true,
    "execution": {
     "iopub.execute_input": "2025-04-26T12:31:57.776616Z",
     "iopub.status.busy": "2025-04-26T12:31:57.776215Z",
     "iopub.status.idle": "2025-04-26T12:31:57.907972Z",
     "shell.execute_reply": "2025-04-26T12:31:57.907630Z",
     "shell.execute_reply.started": "2025-04-26T12:31:57.776594Z"
    },
    "slideshow": {
     "slide_type": "subslide"
    },
    "tags": []
   },
   "outputs": [
    {
     "data": {
      "image/png": "[encoded data removed]",
      "text/plain": [
       "<Figure size 640x480 with 1 Axes>"
      ]
     },
     "metadata": {},
     "output_type": "display_data"
    }
   ],
   "source": [
    "#Visualize cumulative number of products \n",
    "profits.cumulative_product_num.plot()\n",
    "plt.axvline(x=2942, color='red', linestyle='--', label='x = 10% reduction line')\n",
    "plt.legend()\n",
    "plt.title(\"Number of Products\")\n",
    "plt.show()"
   ]
  },
  {
   "cell_type": "code",
   "execution_count": 21,
   "id": "33a0d713-fc90-4bd5-82b6-8ad840d07804",
   "metadata": {
    "editable": true,
    "execution": {
     "iopub.execute_input": "2025-04-25T08:10:00.047435Z",
     "iopub.status.busy": "2025-04-25T08:10:00.047299Z",
     "iopub.status.idle": "2025-04-25T08:10:00.207061Z",
     "shell.execute_reply": "2025-04-25T08:10:00.206674Z",
     "shell.execute_reply.started": "2025-04-25T08:10:00.047421Z"
    },
    "slideshow": {
     "slide_type": "subslide"
    },
    "tags": []
   },
   "outputs": [
    {
     "data": {
      "image/png": "[encoded data removed]",
      "text/plain": [
       "<Figure size 1400x500 with 2 Axes>"
      ]
     },
     "metadata": {},
     "output_type": "display_data"
    }
   ],
   "source": [
    "#Visualize the final profit if they had not exisited \n",
    "fig, axes = plt.subplots(nrows=1, ncols=2, figsize=(14, 5))\n",
    "profits_after_fire = profits[profits[\"unique_id\"]<2942]\n",
    "profits_after_fire.final_profit.plot(ax=axes[0])\n",
    "axes[0].set_title(\"Profit Distribution (after firing)\")\n",
    "axes[0].set_xlabel(\"Sellers (ranked by profit - bad review cost)\")\n",
    "axes[0].set_ylabel(\"Profit (BRL)\")\n",
    "axes[0].yaxis.set_major_formatter(ticker.FuncFormatter(lambda x, _: f'{x:,.0f}'))\n",
    "x0 = profits_after_fire.index[-1]\n",
    "y0 = profits_after_fire.final_profit.iloc[-1]\n",
    "axes[0].annotate(f'{y0:,.0f}', \n",
    "                 xy=(x0, y0), \n",
    "                 xytext=(x0, y0 + 0.05 * y0),\n",
    "                 ha='center', fontsize=9,\n",
    "                 arrowprops=dict(arrowstyle='->', color='gray'))\n",
    "profits.final_profit.plot(ax=axes[1])\n",
    "axes[1].set_title(\"Profit Distribution\")\n",
    "axes[1].set_xlabel(\"Sellers (ranked by profit - bad review cost)\")\n",
    "axes[1].set_ylabel(\"Profit (BRL)\")\n",
    "axes[1].yaxis.set_major_formatter(ticker.FuncFormatter(lambda x, _: f'{x:,.0f}'))\n",
    "x1 = profits.index[-1]\n",
    "y1 = profits.final_profit.iloc[-1]\n",
    "axes[1].annotate(f'{y1:,.0f}', \n",
    "                 xy=(x1, y1), \n",
    "                 xytext=(x1, y1 + 0.05 * y1),\n",
    "                 ha='center', fontsize=9,\n",
    "                 arrowprops=dict(arrowstyle='->', color='gray'))\n",
    "plt.tight_layout()\n",
    "plt.show()"
   ]
  },
  {
   "cell_type": "markdown",
   "id": "63da0e19-280e-4d93-b622-400a2ffbcf84",
   "metadata": {
    "editable": true,
    "execution": {
     "iopub.execute_input": "2025-04-25T05:17:25.299897Z",
     "iopub.status.busy": "2025-04-25T05:17:25.298183Z",
     "iopub.status.idle": "2025-04-25T05:17:25.309389Z",
     "shell.execute_reply": "2025-04-25T05:17:25.308863Z",
     "shell.execute_reply.started": "2025-04-25T05:17:25.299846Z"
    },
    "slideshow": {
     "slide_type": ""
    },
    "tags": []
   },
   "source": [
    "### I recommend you to fire the 26 worst sellers which were responsible for 300,000 BRL loss(750万円)."
   ]
  },
  {
   "cell_type": "markdown",
   "id": "be923c2e-4fb0-48e5-a02f-d54e74f61df0",
   "metadata": {
    "editable": true,
    "slideshow": {
     "slide_type": "subslide"
    },
    "tags": []
   },
   "source": [
    "# 3.Set new policies for sellers\n",
    "\n",
    "## What separates \"good sellers\" from \"bad sellers\"?"
   ]
  },
  {
   "cell_type": "markdown",
   "id": "3a00270b-af5c-4e55-a33c-8e0cc2e1d60d",
   "metadata": {
    "editable": true,
    "slideshow": {
     "slide_type": "subslide"
    },
    "tags": []
   },
   "source": [
    "## Diffences of shipping time"
   ]
  },
  {
   "cell_type": "code",
   "execution_count": 27,
   "id": "7fd09a75-d99d-4e34-aaeb-00a97a52933b",
   "metadata": {
    "editable": true,
    "execution": {
     "iopub.execute_input": "2025-04-26T12:36:24.745272Z",
     "iopub.status.busy": "2025-04-26T12:36:24.743581Z",
     "iopub.status.idle": "2025-04-26T12:36:24.964649Z",
     "shell.execute_reply": "2025-04-26T12:36:24.963999Z",
     "shell.execute_reply.started": "2025-04-26T12:36:24.745188Z"
    },
    "slideshow": {
     "slide_type": "skip"
    },
    "tags": []
   },
   "outputs": [
    {
     "data": {
      "text/html": [
       "<div>\n",
       "<style scoped>\n",
       "    .dataframe tbody tr th:only-of-type {\n",
       "        vertical-align: middle;\n",
       "    }\n",
       "\n",
       "    .dataframe tbody tr th {\n",
       "        vertical-align: top;\n",
       "    }\n",
       "\n",
       "    .dataframe thead th {\n",
       "        text-align: right;\n",
       "    }\n",
       "</style>\n",
       "<table border=\"1\" class=\"dataframe\">\n",
       "  <thead>\n",
       "    <tr style=\"text-align: right;\">\n",
       "      <th></th>\n",
       "      <th>seller_id</th>\n",
       "      <th>delivery_time_days</th>\n",
       "    </tr>\n",
       "  </thead>\n",
       "  <tbody>\n",
       "    <tr>\n",
       "      <th>0</th>\n",
       "      <td>0015a82c2db000af6aaaf3ae2ecb0532</td>\n",
       "      <td>2.333333</td>\n",
       "    </tr>\n",
       "    <tr>\n",
       "      <th>1</th>\n",
       "      <td>001cca7ae9ae17fb1caed9dfb1094831</td>\n",
       "      <td>1.677824</td>\n",
       "    </tr>\n",
       "    <tr>\n",
       "      <th>2</th>\n",
       "      <td>001e6ad469a905060d959994f1b41e4f</td>\n",
       "      <td>NaN</td>\n",
       "    </tr>\n",
       "    <tr>\n",
       "      <th>3</th>\n",
       "      <td>002100f778ceb8431b7a1020ff7ab48f</td>\n",
       "      <td>3.018182</td>\n",
       "    </tr>\n",
       "    <tr>\n",
       "      <th>4</th>\n",
       "      <td>003554e2dce176b5555353e4f3555ac8</td>\n",
       "      <td>0.000000</td>\n",
       "    </tr>\n",
       "    <tr>\n",
       "      <th>...</th>\n",
       "      <td>...</td>\n",
       "      <td>...</td>\n",
       "    </tr>\n",
       "    <tr>\n",
       "      <th>3090</th>\n",
       "      <td>ffcfefa19b08742c5d315f2791395ee5</td>\n",
       "      <td>NaN</td>\n",
       "    </tr>\n",
       "    <tr>\n",
       "      <th>3091</th>\n",
       "      <td>ffdd9f82b9a447f6f8d4b91554cc7dd3</td>\n",
       "      <td>3.500000</td>\n",
       "    </tr>\n",
       "    <tr>\n",
       "      <th>3092</th>\n",
       "      <td>ffeee66ac5d5a62fe688b9d26f83f534</td>\n",
       "      <td>5.642857</td>\n",
       "    </tr>\n",
       "    <tr>\n",
       "      <th>3093</th>\n",
       "      <td>fffd5413c0700ac820c7069d66d98c89</td>\n",
       "      <td>1.459016</td>\n",
       "    </tr>\n",
       "    <tr>\n",
       "      <th>3094</th>\n",
       "      <td>ffff564a4f9085cd26170f4732393726</td>\n",
       "      <td>6.375000</td>\n",
       "    </tr>\n",
       "  </tbody>\n",
       "</table>\n",
       "<p>3095 rows × 2 columns</p>\n",
       "</div>"
      ],
      "text/plain": [
       "                             seller_id  delivery_time_days\n",
       "0     0015a82c2db000af6aaaf3ae2ecb0532            2.333333\n",
       "1     001cca7ae9ae17fb1caed9dfb1094831            1.677824\n",
       "2     001e6ad469a905060d959994f1b41e4f                 NaN\n",
       "3     002100f778ceb8431b7a1020ff7ab48f            3.018182\n",
       "4     003554e2dce176b5555353e4f3555ac8            0.000000\n",
       "...                                ...                 ...\n",
       "3090  ffcfefa19b08742c5d315f2791395ee5                 NaN\n",
       "3091  ffdd9f82b9a447f6f8d4b91554cc7dd3            3.500000\n",
       "3092  ffeee66ac5d5a62fe688b9d26f83f534            5.642857\n",
       "3093  fffd5413c0700ac820c7069d66d98c89            1.459016\n",
       "3094  ffff564a4f9085cd26170f4732393726            6.375000\n",
       "\n",
       "[3095 rows x 2 columns]"
      ]
     },
     "execution_count": 27,
     "metadata": {},
     "output_type": "execute_result"
    }
   ],
   "source": [
    "#Caculate average delivery time(in days)\n",
    "df[\"orders\"]['order_approved_at'] = pd.to_datetime(df[\"orders\"]['order_approved_at'])\n",
    "df[\"orders\"]['order_delivered_carrier_date'] = pd.to_datetime(df[\"orders\"]['order_delivered_carrier_date'])\n",
    "df_shipping = df[\"orders\"].merge(df[\"order_items\"], on='order_id', how='left')\n",
    "df_shipping['delivery_time_days'] = (df_shipping['order_delivered_carrier_date'] - df_shipping['order_approved_at']).dt.days\n",
    "df_shipping = df_shipping.groupby('seller_id')['delivery_time_days'].mean().reset_index()\n",
    "df_shipping"
   ]
  },
  {
   "cell_type": "code",
   "execution_count": 28,
   "id": "a0d7db40-37b7-4d67-8a0b-3b34247d8b75",
   "metadata": {
    "editable": true,
    "execution": {
     "iopub.execute_input": "2025-04-26T12:38:31.062565Z",
     "iopub.status.busy": "2025-04-26T12:38:31.061995Z",
     "iopub.status.idle": "2025-04-26T12:38:31.084750Z",
     "shell.execute_reply": "2025-04-26T12:38:31.084003Z",
     "shell.execute_reply.started": "2025-04-26T12:38:31.062523Z"
    },
    "slideshow": {
     "slide_type": "skip"
    },
    "tags": []
   },
   "outputs": [
    {
     "data": {
      "text/html": [
       "<div>\n",
       "<style scoped>\n",
       "    .dataframe tbody tr th:only-of-type {\n",
       "        vertical-align: middle;\n",
       "    }\n",
       "\n",
       "    .dataframe tbody tr th {\n",
       "        vertical-align: top;\n",
       "    }\n",
       "\n",
       "    .dataframe thead th {\n",
       "        text-align: right;\n",
       "    }\n",
       "</style>\n",
       "<table border=\"1\" class=\"dataframe\">\n",
       "  <thead>\n",
       "    <tr style=\"text-align: right;\">\n",
       "      <th></th>\n",
       "      <th>seller_id</th>\n",
       "      <th>delivery_time_days</th>\n",
       "    </tr>\n",
       "  </thead>\n",
       "  <tbody>\n",
       "    <tr>\n",
       "      <th>0</th>\n",
       "      <td>1352e06ae67b410cdae0b2a22361167b</td>\n",
       "      <td>17.000000</td>\n",
       "    </tr>\n",
       "    <tr>\n",
       "      <th>1</th>\n",
       "      <td>adbe70ab2c97442046d393988c8d1d27</td>\n",
       "      <td>1.000000</td>\n",
       "    </tr>\n",
       "    <tr>\n",
       "      <th>2</th>\n",
       "      <td>74c7dec0a384d8a05950e629bd23bde9</td>\n",
       "      <td>4.000000</td>\n",
       "    </tr>\n",
       "    <tr>\n",
       "      <th>3</th>\n",
       "      <td>9da1ca0bef29ee170e541927a5aeabdc</td>\n",
       "      <td>1.333333</td>\n",
       "    </tr>\n",
       "    <tr>\n",
       "      <th>4</th>\n",
       "      <td>8ff38bc3969e67c36c48343a07090f66</td>\n",
       "      <td>7.000000</td>\n",
       "    </tr>\n",
       "    <tr>\n",
       "      <th>...</th>\n",
       "      <td>...</td>\n",
       "      <td>...</td>\n",
       "    </tr>\n",
       "    <tr>\n",
       "      <th>1163</th>\n",
       "      <td>cc419e0650a3c5ba77189a1882b7556a</td>\n",
       "      <td>1.886364</td>\n",
       "    </tr>\n",
       "    <tr>\n",
       "      <th>1164</th>\n",
       "      <td>4a3ca9315b744ce9f8e9374361493884</td>\n",
       "      <td>1.848943</td>\n",
       "    </tr>\n",
       "    <tr>\n",
       "      <th>1165</th>\n",
       "      <td>7c67e1448b00f6e969d365cea6b010ab</td>\n",
       "      <td>11.078561</td>\n",
       "    </tr>\n",
       "    <tr>\n",
       "      <th>1166</th>\n",
       "      <td>1f50f920176fa81dab994f9023523100</td>\n",
       "      <td>2.885552</td>\n",
       "    </tr>\n",
       "    <tr>\n",
       "      <th>1167</th>\n",
       "      <td>6560211a19b47992c3666cc44a7e94c0</td>\n",
       "      <td>0.694965</td>\n",
       "    </tr>\n",
       "  </tbody>\n",
       "</table>\n",
       "<p>1168 rows × 2 columns</p>\n",
       "</div>"
      ],
      "text/plain": [
       "                             seller_id  delivery_time_days\n",
       "0     1352e06ae67b410cdae0b2a22361167b           17.000000\n",
       "1     adbe70ab2c97442046d393988c8d1d27            1.000000\n",
       "2     74c7dec0a384d8a05950e629bd23bde9            4.000000\n",
       "3     9da1ca0bef29ee170e541927a5aeabdc            1.333333\n",
       "4     8ff38bc3969e67c36c48343a07090f66            7.000000\n",
       "...                                ...                 ...\n",
       "1163  cc419e0650a3c5ba77189a1882b7556a            1.886364\n",
       "1164  4a3ca9315b744ce9f8e9374361493884            1.848943\n",
       "1165  7c67e1448b00f6e969d365cea6b010ab           11.078561\n",
       "1166  1f50f920176fa81dab994f9023523100            2.885552\n",
       "1167  6560211a19b47992c3666cc44a7e94c0            0.694965\n",
       "\n",
       "[1168 rows x 2 columns]"
      ]
     },
     "execution_count": 28,
     "metadata": {},
     "output_type": "execute_result"
    }
   ],
   "source": [
    "# Those who don't make profits\n",
    "no_more_profits\n",
    "no_more_profits = no_more_profits.merge(df_shipping,on='seller_id', how='left')\n",
    "no_more_profits = no_more_profits.merge(df[\"sellers\"],on='seller_id', how='left')\n",
    "no_more_profits = no_more_profits[[\"seller_id\",\"delivery_time_days\"]]\n",
    "no_more_profits "
   ]
  },
  {
   "cell_type": "code",
   "execution_count": 29,
   "id": "706d751e-0086-4772-8cbc-d967d45d1fc7",
   "metadata": {
    "editable": true,
    "execution": {
     "iopub.execute_input": "2025-04-26T12:39:00.062556Z",
     "iopub.status.busy": "2025-04-26T12:39:00.062016Z",
     "iopub.status.idle": "2025-04-26T12:39:00.084030Z",
     "shell.execute_reply": "2025-04-26T12:39:00.083483Z",
     "shell.execute_reply.started": "2025-04-26T12:39:00.062526Z"
    },
    "slideshow": {
     "slide_type": "skip"
    },
    "tags": []
   },
   "outputs": [
    {
     "data": {
      "text/html": [
       "<div>\n",
       "<style scoped>\n",
       "    .dataframe tbody tr th:only-of-type {\n",
       "        vertical-align: middle;\n",
       "    }\n",
       "\n",
       "    .dataframe tbody tr th {\n",
       "        vertical-align: top;\n",
       "    }\n",
       "\n",
       "    .dataframe thead th {\n",
       "        text-align: right;\n",
       "    }\n",
       "</style>\n",
       "<table border=\"1\" class=\"dataframe\">\n",
       "  <thead>\n",
       "    <tr style=\"text-align: right;\">\n",
       "      <th></th>\n",
       "      <th>seller_id</th>\n",
       "      <th>delivery_time_days</th>\n",
       "    </tr>\n",
       "  </thead>\n",
       "  <tbody>\n",
       "    <tr>\n",
       "      <th>0</th>\n",
       "      <td>53243585a1d6dc2643021fd1853d8905</td>\n",
       "      <td>2.678218</td>\n",
       "    </tr>\n",
       "    <tr>\n",
       "      <th>1</th>\n",
       "      <td>fa1c13f2614d7b5c4749cbc52fecda94</td>\n",
       "      <td>1.837050</td>\n",
       "    </tr>\n",
       "    <tr>\n",
       "      <th>2</th>\n",
       "      <td>7e93a43ef30c4f03f38b393420bc753a</td>\n",
       "      <td>1.908257</td>\n",
       "    </tr>\n",
       "    <tr>\n",
       "      <th>3</th>\n",
       "      <td>edb1ef5e36e0c8cd84eb3c9b003e486d</td>\n",
       "      <td>0.874286</td>\n",
       "    </tr>\n",
       "    <tr>\n",
       "      <th>4</th>\n",
       "      <td>ccc4bbb5f32a6ab2b7066a4130f114e3</td>\n",
       "      <td>2.296875</td>\n",
       "    </tr>\n",
       "    <tr>\n",
       "      <th>...</th>\n",
       "      <td>...</td>\n",
       "      <td>...</td>\n",
       "    </tr>\n",
       "    <tr>\n",
       "      <th>1794</th>\n",
       "      <td>b33aaadd1a8891d2dfef0c4c3bdf0371</td>\n",
       "      <td>0.823529</td>\n",
       "    </tr>\n",
       "    <tr>\n",
       "      <th>1795</th>\n",
       "      <td>714b9a1332840f257b49f476bea4e341</td>\n",
       "      <td>1.333333</td>\n",
       "    </tr>\n",
       "    <tr>\n",
       "      <th>1796</th>\n",
       "      <td>28fb0829fd777877cdc350d25cb5bd5b</td>\n",
       "      <td>0.500000</td>\n",
       "    </tr>\n",
       "    <tr>\n",
       "      <th>1797</th>\n",
       "      <td>0ec28cec4046a4a199b6de9b4c891d97</td>\n",
       "      <td>2.250000</td>\n",
       "    </tr>\n",
       "    <tr>\n",
       "      <th>1798</th>\n",
       "      <td>c7fdb77fdbff3c41981bc52f787e959e</td>\n",
       "      <td>3.272727</td>\n",
       "    </tr>\n",
       "  </tbody>\n",
       "</table>\n",
       "<p>1799 rows × 2 columns</p>\n",
       "</div>"
      ],
      "text/plain": [
       "                             seller_id  delivery_time_days\n",
       "0     53243585a1d6dc2643021fd1853d8905            2.678218\n",
       "1     fa1c13f2614d7b5c4749cbc52fecda94            1.837050\n",
       "2     7e93a43ef30c4f03f38b393420bc753a            1.908257\n",
       "3     edb1ef5e36e0c8cd84eb3c9b003e486d            0.874286\n",
       "4     ccc4bbb5f32a6ab2b7066a4130f114e3            2.296875\n",
       "...                                ...                 ...\n",
       "1794  b33aaadd1a8891d2dfef0c4c3bdf0371            0.823529\n",
       "1795  714b9a1332840f257b49f476bea4e341            1.333333\n",
       "1796  28fb0829fd777877cdc350d25cb5bd5b            0.500000\n",
       "1797  0ec28cec4046a4a199b6de9b4c891d97            2.250000\n",
       "1798  c7fdb77fdbff3c41981bc52f787e959e            3.272727\n",
       "\n",
       "[1799 rows x 2 columns]"
      ]
     },
     "execution_count": 29,
     "metadata": {},
     "output_type": "execute_result"
    }
   ],
   "source": [
    "#Only those who make profits\n",
    "create_profits = profits[profits[\"unique_id\"] < 1800]\n",
    "create_profits = create_profits.merge(df_shipping,on='seller_id', how='left')\n",
    "create_profits = create_profits.merge(df[\"sellers\"],on='seller_id', how='left')\n",
    "create_profits = create_profits[[\"seller_id\",\"delivery_time_days\"]]\n",
    "create_profits"
   ]
  },
  {
   "cell_type": "code",
   "execution_count": 25,
   "id": "c1fffb65-224d-46c3-afe2-257af901ed48",
   "metadata": {
    "editable": true,
    "execution": {
     "iopub.execute_input": "2025-04-25T08:10:00.362300Z",
     "iopub.status.busy": "2025-04-25T08:10:00.362101Z",
     "iopub.status.idle": "2025-04-25T08:10:00.364766Z",
     "shell.execute_reply": "2025-04-25T08:10:00.364470Z",
     "shell.execute_reply.started": "2025-04-25T08:10:00.362287Z"
    },
    "slideshow": {
     "slide_type": "skip"
    },
    "tags": []
   },
   "outputs": [
    {
     "name": "stdout",
     "output_type": "stream",
     "text": [
      "Shipping time of bad sellers:3.0820830435877786\n",
      "Shipping time of good sellers:2.436006433751582\n"
     ]
    }
   ],
   "source": [
    "#waiting time\n",
    "print(f\"Shipping time of bad sellers:{no_more_profits[\"delivery_time_days\"].mean()}\")\n",
    "print(f\"Shipping time of good sellers:{create_profits[\"delivery_time_days\"].mean()}\")"
   ]
  },
  {
   "cell_type": "code",
   "execution_count": 30,
   "id": "8cf934f8-d192-4a46-a322-cdf9714dec89",
   "metadata": {
    "editable": true,
    "execution": {
     "iopub.execute_input": "2025-04-26T12:39:39.848787Z",
     "iopub.status.busy": "2025-04-26T12:39:39.848374Z",
     "iopub.status.idle": "2025-04-26T12:39:39.866039Z",
     "shell.execute_reply": "2025-04-26T12:39:39.865331Z",
     "shell.execute_reply.started": "2025-04-26T12:39:39.848761Z"
    },
    "slideshow": {
     "slide_type": "skip"
    },
    "tags": []
   },
   "outputs": [
    {
     "name": "stdout",
     "output_type": "stream",
     "text": [
      "Shipping time of bad sellers: 3.08208304358777862574925166\n",
      "Shipping time of good sellers: 2.436006433751582100910582085\n",
      "T-statistic: 4.079013964282761861568360473\n",
      "P-value: 0.0000472345243198047588556627574\n",
      "Reject the null hypothesis: There is a significant difference in shipping times between bad and good sellers.\n"
     ]
    }
   ],
   "source": [
    "# Assuming `no_more_profits` and `create_profits` are your DataFrames\n",
    "# Extract the shipping times for bad and good sellers\n",
    "bad_sellers_times = no_more_profits['delivery_time_days']\n",
    "good_sellers_times = create_profits['delivery_time_days']\n",
    "\n",
    "# Perform an independent t-test\n",
    "t_statistic, p_value = stats.ttest_ind(bad_sellers_times, good_sellers_times, equal_var=False)\n",
    "\n",
    "# Function to display the first non-zero digit after decimal\n",
    "def format_significant(value):\n",
    "    # Using Decimal to strip trailing zeros and keep the significant digits\n",
    "    return str(Decimal(value).normalize())\n",
    "\n",
    "# Print the results with the first significant digit after decimal\n",
    "print(f\"Shipping time of bad sellers: {format_significant(bad_sellers_times.mean())}\")\n",
    "print(f\"Shipping time of good sellers: {format_significant(good_sellers_times.mean())}\")\n",
    "print(f\"T-statistic: {format_significant(t_statistic)}\")\n",
    "print(f\"P-value: {format_significant(p_value)}\")\n",
    "\n",
    "# Conclusion based on p-value\n",
    "alpha = 0.05  # Significance level\n",
    "if p_value < alpha:\n",
    "    print(\"Reject the null hypothesis: There is a significant difference in shipping times between bad and good sellers.\")\n",
    "else:\n",
    "    print(\"Fail to reject the null hypothesis: There ibs no significant difference in shipping times between bad and good sellers.\")\n"
   ]
  },
  {
   "cell_type": "markdown",
   "id": "874f0ed7-bbb5-4fa4-a22d-52d48b401d0a",
   "metadata": {
    "editable": true,
    "execution": {
     "iopub.execute_input": "2025-04-25T07:41:21.712641Z",
     "iopub.status.busy": "2025-04-25T07:41:21.710922Z",
     "iopub.status.idle": "2025-04-25T07:41:21.723795Z",
     "shell.execute_reply": "2025-04-25T07:41:21.722399Z",
     "shell.execute_reply.started": "2025-04-25T07:41:21.712565Z"
    },
    "jupyter": {
     "source_hidden": true
    },
    "slideshow": {
     "slide_type": "subslide"
    },
    "tags": []
   },
   "source": [
    "### Average shipping time of bad sellers: 3.0 days\n",
    "### Average shipping time of good sellers: 2.4 days\n",
    "\n",
    "## Do the two shipping times happen to be differnt? Let's test\n",
    "### P-value: 0.00004\n",
    "### Reject the null hypothesis: There is a significant difference in shipping times between bad and good sellers."
   ]
  },
  {
   "cell_type": "markdown",
   "id": "d8b1e5ac-948d-4fbd-b4a8-9ee919ba9cf5",
   "metadata": {
    "editable": true,
    "slideshow": {
     "slide_type": "subslide"
    },
    "tags": []
   },
   "source": [
    "## Suggestion\n",
    "### We could reward sellers with short shipping time"
   ]
  },
  {
   "cell_type": "markdown",
   "id": "130c74ad-af60-486f-a450-5e49798d3202",
   "metadata": {
    "editable": true,
    "execution": {
     "iopub.execute_input": "2025-04-25T06:07:28.049371Z",
     "iopub.status.busy": "2025-04-25T06:07:28.047596Z",
     "iopub.status.idle": "2025-04-25T06:07:28.056532Z",
     "shell.execute_reply": "2025-04-25T06:07:28.055728Z",
     "shell.execute_reply.started": "2025-04-25T06:07:28.049297Z"
    },
    "slideshow": {
     "slide_type": "skip"
    },
    "tags": []
   },
   "source": [
    "## Regional Differnces"
   ]
  },
  {
   "cell_type": "code",
   "execution_count": 27,
   "id": "18ecd2a1-c0d1-446c-bc6f-a70363d99645",
   "metadata": {
    "editable": true,
    "execution": {
     "iopub.execute_input": "2025-04-25T08:10:00.376677Z",
     "iopub.status.busy": "2025-04-25T08:10:00.376524Z",
     "iopub.status.idle": "2025-04-25T08:10:00.386248Z",
     "shell.execute_reply": "2025-04-25T08:10:00.385049Z",
     "shell.execute_reply.started": "2025-04-25T08:10:00.376665Z"
    },
    "slideshow": {
     "slide_type": "skip"
    },
    "tags": []
   },
   "outputs": [
    {
     "name": "stdout",
     "output_type": "stream",
     "text": [
      "              no_more_profits  create_profits\n",
      "seller_state                                 \n",
      "AM                   0.000856        0.000000\n",
      "BA                   0.004281        0.007226\n",
      "CE                   0.004281        0.003891\n",
      "DF                   0.006849        0.012229\n",
      "ES                   0.008562        0.006670\n",
      "GO                   0.015411        0.011673\n",
      "MA                   0.000856        0.000000\n",
      "MG                   0.076199        0.081712\n",
      "MS                   0.000856        0.002223\n",
      "MT                   0.000000        0.002223\n",
      "PA                   0.000000        0.000556\n",
      "PB                   0.002568        0.001668\n",
      "PE                   0.001712        0.003891\n",
      "PI                   0.000000        0.000556\n",
      "PR                   0.101884        0.118955\n",
      "RJ                   0.053938        0.055586\n",
      "RN                   0.001712        0.001668\n",
      "RO                   0.000000        0.001112\n",
      "RS                   0.041096        0.042802\n",
      "SC                   0.059932        0.063369\n",
      "SE                   0.000000        0.001112\n",
      "SP                   0.619007        0.580878\n"
     ]
    }
   ],
   "source": [
    "# Normalize the value counts for no_more_profits\n",
    "no_more_profits_state = no_more_profits[\"seller_state\"].value_counts(normalize=True)\n",
    "\n",
    "# Normalize the value counts for create_profits\n",
    "create_profits_state = create_profits[\"seller_state\"].value_counts(normalize=True)\n",
    "\n",
    "# Merge the two normalized counts into one DataFrame\n",
    "comparison = pd.DataFrame({\n",
    "    'no_more_profits': no_more_profits_state,\n",
    "    'create_profits': create_profits_state\n",
    "}).fillna(0)  # Fill NaN values with 0 if a state is missing in one of the datasetss\n",
    "\n",
    "# Display the comparison\n",
    "print(comparison)\n"
   ]
  },
  {
   "cell_type": "code",
   "execution_count": 28,
   "id": "d028be21-64c6-486d-af7b-263fa9a201db",
   "metadata": {
    "editable": true,
    "execution": {
     "iopub.execute_input": "2025-04-25T08:10:00.387671Z",
     "iopub.status.busy": "2025-04-25T08:10:00.387408Z",
     "iopub.status.idle": "2025-04-25T08:10:01.663945Z",
     "shell.execute_reply": "2025-04-25T08:10:01.663553Z",
     "shell.execute_reply.started": "2025-04-25T08:10:00.387652Z"
    },
    "scrolled": true,
    "slideshow": {
     "slide_type": "skip"
    },
    "tags": []
   },
   "outputs": [
    {
     "data": {
      "image/png": "[encoded data removed]",
      "text/plain": [
       "<Figure size 2000x1000 with 4 Axes>"
      ]
     },
     "metadata": {},
     "output_type": "display_data"
    }
   ],
   "source": [
    "# Load the map of Brazil's states\n",
    "brazil_states_map = gpd.read_file('https://raw.githubusercontent.com/codeforamerica/click_that_hood/master/public/data/brazil-states.geojson')\n",
    "\n",
    "# Normalize the value counts for no_more_profits\n",
    "no_more_profits_state = no_more_profits[\"seller_state\"].value_counts(normalize=True)\n",
    "\n",
    "# Normalize the value counts for create_profits\n",
    "create_profits_state = create_profits[\"seller_state\"].value_counts(normalize=True)\n",
    "\n",
    "# Merge the normalized value counts with the map of Brazil\n",
    "brazil_states_map = brazil_states_map.set_index('sigla')\n",
    "\n",
    "# Join the comparison data with the map of Brazil\n",
    "brazil_states_map['no_more_profits'] = brazil_states_map.index.map(no_more_profits_state)\n",
    "brazil_states_map['create_profits'] = brazil_states_map.index.map(create_profits_state)\n",
    "\n",
    "# Set the same color scale for both maps\n",
    "vmin = min(brazil_states_map['no_more_profits'].min(), brazil_states_map['create_profits'].min())\n",
    "vmax = max(brazil_states_map['no_more_profits'].max(), brazil_states_map['create_profits'].max())\n",
    "\n",
    "# Plot the first map for no_more_profits\n",
    "fig, ax = plt.subplots(1, 2, figsize=(20, 10))\n",
    "\n",
    "# Plot no_more_profits map (color each state based on 'no_more_profits' rate)\n",
    "brazil_states_map.plot(ax=ax[0], column='no_more_profits', cmap='Blues', legend=True, \n",
    "                       legend_kwds={'label': \"Normalized Rate (no_more_profits)\", 'orientation': \"horizontal\"},\n",
    "                       vmin=vmin, vmax=vmax)\n",
    "ax[0].set_title(\"Good Customers\")\n",
    "\n",
    "# Plot create_profits map (color each state based on 'create_profits' rate)\n",
    "brazil_states_map.plot(ax=ax[1], column='create_profits', cmap='Blues', legend=True, \n",
    "                       legend_kwds={'label': \"Normalized Rate (create_profits)\", 'orientation': \"horizontal\"},\n",
    "                       vmin=vmin, vmax=vmax)\n",
    "ax[1].set_title(\"Bad Customers\")\n",
    "\n",
    "# Show the plots\n",
    "plt.tight_layout()\n",
    "plt.show()\n",
    "\n"
   ]
  },
  {
   "cell_type": "markdown",
   "id": "22a6bdae-ae27-4078-9c2e-468c45dc48f1",
   "metadata": {
    "editable": true,
    "slideshow": {
     "slide_type": ""
    },
    "tags": []
   },
   "source": [
    "## There is no obvious regional differnce"
   ]
  },
  {
   "cell_type": "code",
   "execution_count": null,
   "id": "013506cc-7765-45ba-9440-cc613da17fa2",
   "metadata": {
    "editable": true,
    "slideshow": {
     "slide_type": ""
    },
    "tags": []
   },
   "outputs": [],
   "source": []
  },
  {
   "cell_type": "code",
   "execution_count": null,
   "id": "19204a6b-8a0b-4d8f-91a3-d7e60c7d9da1",
   "metadata": {
    "editable": true,
    "slideshow": {
     "slide_type": ""
    },
    "tags": []
   },
   "outputs": [],
   "source": []
  }
 ],
 "metadata": {
  "kernelspec": {
   "display_name": "Python 3 (ipykernel)",
   "language": "python",
   "name": "python3"
  },
  "language_info": {
   "codemirror_mode": {
    "name": "ipython",
    "version": 3
   },
   "file_extension": ".py",
   "mimetype": "text/x-python",
   "name": "python",
   "nbconvert_exporter": "python",
   "pygments_lexer": "ipython3",
   "version": "3.12.9"
  }
 },
 "nbformat": 4,
 "nbformat_minor": 5
}
